{
 "cells": [
  {
   "cell_type": "code",
   "execution_count": 16,
   "metadata": {
    "collapsed": false
   },
   "outputs": [
    {
     "name": "stdout",
     "output_type": "stream",
     "text": [
      "http://career.zhupiter.com/query-profile-detail.php?ProId=5869\n",
      "http://career.zhupiter.com/query-profile-detail.php?ProId=6309\n",
      "http://career.zhupiter.com/query-profile-detail.php?ProId=6307\n",
      "http://career.zhupiter.com/query-profile-detail.php?ProId=6306\n",
      "http://career.zhupiter.com/query-profile-detail.php?ProId=6305\n",
      "http://career.zhupiter.com/query-profile-detail.php?ProId=6304\n",
      "http://career.zhupiter.com/query-profile-detail.php?ProId=6303\n",
      "http://career.zhupiter.com/query-profile-detail.php?ProId=6302\n",
      "http://career.zhupiter.com/query-profile-detail.php?ProId=6301\n",
      "http://career.zhupiter.com/query-profile-detail.php?ProId=6300\n"
     ]
    }
   ],
   "source": [
    "import requests\n",
    "from bs4 import BeautifulSoup as bs\n",
    "url = \"http://career.zhupiter.com/query-profile.php?Step=1&ComName=&InduId=0&JobId=0&LocaName=&Seniority=&ProOld=&EduId=-1&Pay=&ComSelTp=1&Ofst=11\"\n",
    "res = requests.get(url)\n",
    "soup = bs(res.text)\n",
    "title = soup.select('.DjColor1')\n",
    "for link in title:\n",
    "    print link.select('a')[0]['href']"
   ]
  },
  {
   "cell_type": "code",
   "execution_count": null,
   "metadata": {
    "collapsed": true
   },
   "outputs": [],
   "source": []
  }
 ],
 "metadata": {
  "kernelspec": {
   "display_name": "Python 2",
   "language": "python",
   "name": "python2"
  },
  "language_info": {
   "codemirror_mode": {
    "name": "ipython",
    "version": 2
   },
   "file_extension": ".py",
   "mimetype": "text/x-python",
   "name": "python",
   "nbconvert_exporter": "python",
   "pygments_lexer": "ipython2",
   "version": "2.7.11"
  }
 },
 "nbformat": 4,
 "nbformat_minor": 0
}

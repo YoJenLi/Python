{
 "cells": [
  {
   "cell_type": "code",
   "execution_count": 1,
   "metadata": {
    "collapsed": false
   },
   "outputs": [
    {
     "name": "stdout",
     "output_type": "stream",
     "text": [
      "0\n",
      "1\n",
      "2\n",
      "3\n",
      "4\n",
      "5\n",
      "6\n",
      "7\n",
      "8\n",
      "9\n",
      "10\n"
     ]
    }
   ],
   "source": [
    "for i in xrange(0,11):\n",
    "    print i"
   ]
  },
  {
   "cell_type": "code",
   "execution_count": 2,
   "metadata": {
    "collapsed": true
   },
   "outputs": [
    {
     "data": {
      "text/plain": [
       "['ConnectionError',\n",
       " 'FileModeWarning',\n",
       " 'HTTPError',\n",
       " 'NullHandler',\n",
       " 'PreparedRequest',\n",
       " 'Request',\n",
       " 'RequestException',\n",
       " 'Response',\n",
       " 'Session',\n",
       " 'Timeout',\n",
       " 'TooManyRedirects',\n",
       " 'URLRequired',\n",
       " '__author__',\n",
       " '__build__',\n",
       " '__builtins__',\n",
       " '__copyright__',\n",
       " '__doc__',\n",
       " '__file__',\n",
       " '__license__',\n",
       " '__name__',\n",
       " '__package__',\n",
       " '__path__',\n",
       " '__title__',\n",
       " '__version__',\n",
       " 'adapters',\n",
       " 'api',\n",
       " 'auth',\n",
       " 'certs',\n",
       " 'codes',\n",
       " 'compat',\n",
       " 'cookies',\n",
       " 'delete',\n",
       " 'exceptions',\n",
       " 'get',\n",
       " 'head',\n",
       " 'hooks',\n",
       " 'logging',\n",
       " 'models',\n",
       " 'options',\n",
       " 'packages',\n",
       " 'patch',\n",
       " 'post',\n",
       " 'put',\n",
       " 'request',\n",
       " 'session',\n",
       " 'sessions',\n",
       " 'status_codes',\n",
       " 'structures',\n",
       " 'utils',\n",
       " 'warnings']"
      ]
     },
     "execution_count": 2,
     "metadata": {},
     "output_type": "execute_result"
    }
   ],
   "source": [
    "import requests\n",
    "dir(requests) #回傳所有 object 的屬性及方法名稱的串列"
   ]
  },
  {
   "cell_type": "code",
   "execution_count": 8,
   "metadata": {
    "collapsed": false
   },
   "outputs": [
    {
     "name": "stdout",
     "output_type": "stream",
     "text": [
      "what's your nameDavid\n",
      "nice to meet you\n"
     ]
    }
   ],
   "source": [
    "name = raw_input(\"what's your name\")\n",
    "if name == \"David\":\n",
    "    print \"nice to meet you\"\n",
    "else:\n",
    "    print \"your name again pleaz\""
   ]
  },
  {
   "cell_type": "code",
   "execution_count": 11,
   "metadata": {
    "collapsed": false
   },
   "outputs": [
    {
     "name": "stdout",
     "output_type": "stream",
     "text": [
      "nice to meet you :jully,I'm nate\n",
      "The result are 3.14 and 5\n"
     ]
    }
   ],
   "source": [
    "name = \"Nate\"\n",
    "print \"nice to meet you :{0},I'm {1}\".format(\"jully\",\"nate\")\n",
    "print \"The result are %.02f and %d\" %(3.1415,5)"
   ]
  },
  {
   "cell_type": "code",
   "execution_count": 12,
   "metadata": {
    "collapsed": false
   },
   "outputs": [
    {
     "name": "stdout",
     "output_type": "stream",
     "text": [
      "this is a booooooooooooooooooooooook\n"
     ]
    }
   ],
   "source": [
    "a = 'this is a \\\n",
    "booooooooooooooooooooooook'\n",
    "print a"
   ]
  },
  {
   "cell_type": "code",
   "execution_count": 13,
   "metadata": {
    "collapsed": false
   },
   "outputs": [
    {
     "name": "stdout",
     "output_type": "stream",
     "text": [
      "{'saying': 1, 'all': 1, 'says.': 1, 'increasingly': 1, 'over': 1, 'global': 1, 'soon': 1, 'deliveries': 1, 'profits,': 1, 'four': 1, 'bring': 1, 'looks': 1, 'its': 2, 'also': 2, 'supply': 1, 'should': 2, 'to': 8, 'only': 1, 'announce': 1, 'has': 3, 'world.': 1, 'into': 1, 'world,': 1, 'Prime': 4, 'And': 1, 'network,': 1, 'around': 1, 'prepping': 1, 'working': 2, 'aspirational': 1, 'nearly': 1, 'press': 1, 'areas': 1, 'like': 1, 'countries': 1, 'India': 1, 'leave': 1, 'she': 1, 'team': 1, 'release': 1, '\\xe2\\x80\\x98magical.\\xe2\\x80\\x99\\xe2\\x80\\x9d': 1, 'wrote': 1, 'process,\\xe2\\x80\\x9d': 1, 'logistics': 1, 'forbid,': 1, 'force': 1, 'paper?\\n\\nStephenie': 1, 'house)': 1, 'humans': 1, 'growth': 1, 'out': 1, 'cargo': 1, 'what': 2, 'for': 2, 'That': 1, 'giving': 1, 'working-backward': 1, 'assembled': 1, 'may': 1, 'Amazon': 4, 'version': 1, 'China': 1, 'planes,': 1, 'probably': 1, '22-year': 1, 'be': 4, 'we': 1, 'infrastructure': 1, 'favored': 1, 'couriers.': 1, 'hundreds': 1, 'control': 1, 'from': 1, 'UPS': 1, 'wait': 1, 'on': 2, 'chain,': 1, 'service': 1, 'anything': 1, 'of': 9, '30': 1, 'days': 1, 'experience': 1, 'FedEx': 1, 'products': 1, '\\xe2\\x80\\x9cWe': 2, 'long-term': 1, 'contingency': 1, 'sprawling': 1, 'Now,': 1, 'gone': 1, 'Landry': 2, 'trucks,': 1, '(or,': 1, 'long': 1, 'drones': 1, 'actually': 1, 'writing': 1, 'your': 3, 'now.': 1, 'company\\xe2\\x80\\x99s': 1, 'would': 4, 'their': 1, 'concept,': 1, 'warehouses': 1, 'instantaneousness': 1, 'start': 1, 'live': 1, 'poured': 1, 'way': 1, '\\xe2\\x80\\x94Davey': 1, 'conceptualized': 1, 'was': 1, 'launching': 1, 'more': 1, 'building': 1, 'life': 1, 'Since': 1, 'scaled-down': 1, 'complete': 1, 'that': 3, 'company': 2, 'but': 1, 'delivery': 1, 'immediately.': 1, 'emerges,': 1, 'And,': 1, 'factories': 1, 'than': 1, 'gratification\\xe2\\x80\\x94as': 1, 'Now': 3, 'doorstep.': 1, 'Alba\\n': 1, 'well,': 1, 'thousands': 1, 'work': 1, 'resources': 1, 'December': 1, 'called': 1, 'something': 1, 'and': 8, 'toilet': 1, 'dedicated': 1, 'want': 1, 'metropolitan': 1, 'almost': 1, 'God': 1, 'is': 1, 'lifespan,': 1, 'play:': 1, 'involve': 1, 'problem.': 1, 'as': 3, 'at': 1, 'have': 2, 'in': 7, 'need': 1, 'if': 1, 'rumors': 1, 'not': 1, 'responsible': 1, 'when': 2, 'write': 1, 'how': 1, 'grand': 1, 'swirl': 1, 'you': 4, 'as,': 1, 'Why': 1, 'one-hour': 1, 'picture': 1, 'product': 1, 'plans': 1, 'I': 2, 'plan': 1, 'president': 1, '2014,': 1, 'a': 4, 'vice': 1, 'flow': 1, 'the': 15}\n"
     ]
    }
   ],
   "source": [
    "text = '''Amazon has long favored growth over profits, and in its nearly 22-year lifespan, the company has poured resources into building out a sprawling logistics infrastructure dedicated to giving you what you want almost immediately. Why should you have to wait for days (or, God forbid, leave your house) when you need toilet paper?\n",
    "\n",
    "Stephenie Landry is the force responsible for the instantaneousness of your gratification—as vice president of Amazon Prime Now, she conceptualized how the company would bring one-hour deliveries to life and assembled the team to work on the problem. “We have something at Amazon called the working-backward process,” Landry says. “We write a press release saying what we would announce to the world, and when I was writing the product concept, I wrote that the experience of Prime Now would be ‘magical.’” Since launching in December 2014, the service has gone live in four countries and more than 30 metropolitan areas around the world. And, as rumors swirl that Amazon may also be working on a global delivery network, Prime Now increasingly looks to be a scaled-down version of the company’s long-term play: to be in complete control of the flow of products in its supply chain, from factories in China and India all the way to your doorstep. That grand plan would involve not only trucks, cargo planes, and drones but also hundreds of thousands of humans working in warehouses and as couriers. And if anything like that aspirational picture of Prime Now actually emerges, UPS and FedEx should probably start prepping their contingency plans as soon as, well, now. —Davey Alba\n",
    "'''\n",
    "words = text.split(' ')\n",
    "dic = {}\n",
    "for w in words:\n",
    "    if w not in dic:\n",
    "        dic[w] = 1\n",
    "    else:\n",
    "        dic[w] += 1\n",
    "print dic        "
   ]
  },
  {
   "cell_type": "code",
   "execution_count": 15,
   "metadata": {
    "collapsed": false
   },
   "outputs": [
    {
     "name": "stdout",
     "output_type": "stream",
     "text": [
      "Counter({'the': 15, 'of': 9, 'to': 8, 'and': 8, 'in': 7, 'Prime': 4, 'Amazon': 4, 'be': 4, 'would': 4, 'you': 4, 'a': 4, 'has': 3, 'your': 3, 'that': 3, 'Now': 3, 'as': 3, 'its': 2, 'also': 2, 'should': 2, 'working': 2, 'what': 2, 'for': 2, 'on': 2, '\\xe2\\x80\\x9cWe': 2, 'Landry': 2, 'company': 2, 'have': 2, 'when': 2, 'I': 2, 'saying': 1, 'all': 1, 'says.': 1, 'increasingly': 1, 'over': 1, 'global': 1, 'soon': 1, 'deliveries': 1, 'profits,': 1, 'four': 1, 'bring': 1, 'looks': 1, 'supply': 1, 'only': 1, 'announce': 1, 'world.': 1, 'into': 1, 'world,': 1, 'And': 1, 'network,': 1, 'around': 1, 'prepping': 1, 'aspirational': 1, 'nearly': 1, 'press': 1, 'areas': 1, 'like': 1, 'countries': 1, 'India': 1, 'leave': 1, 'she': 1, 'team': 1, 'release': 1, '\\xe2\\x80\\x98magical.\\xe2\\x80\\x99\\xe2\\x80\\x9d': 1, 'wrote': 1, 'process,\\xe2\\x80\\x9d': 1, 'logistics': 1, 'forbid,': 1, 'force': 1, 'paper?\\n\\nStephenie': 1, 'house)': 1, 'humans': 1, 'growth': 1, 'out': 1, 'cargo': 1, 'That': 1, 'giving': 1, 'working-backward': 1, 'assembled': 1, 'may': 1, 'version': 1, 'China': 1, 'planes,': 1, 'probably': 1, '22-year': 1, 'we': 1, 'infrastructure': 1, 'favored': 1, 'couriers.': 1, 'hundreds': 1, 'control': 1, 'from': 1, 'UPS': 1, 'wait': 1, 'chain,': 1, 'service': 1, 'anything': 1, '30': 1, 'days': 1, 'experience': 1, 'FedEx': 1, 'products': 1, 'long-term': 1, 'contingency': 1, 'sprawling': 1, 'Now,': 1, 'gone': 1, 'trucks,': 1, '(or,': 1, 'long': 1, 'drones': 1, 'actually': 1, 'writing': 1, 'now.': 1, 'company\\xe2\\x80\\x99s': 1, 'their': 1, 'concept,': 1, 'warehouses': 1, 'instantaneousness': 1, 'start': 1, 'live': 1, 'poured': 1, 'way': 1, '\\xe2\\x80\\x94Davey': 1, 'conceptualized': 1, 'was': 1, 'launching': 1, 'more': 1, 'building': 1, 'life': 1, 'Since': 1, 'scaled-down': 1, 'complete': 1, 'but': 1, 'delivery': 1, 'immediately.': 1, 'emerges,': 1, 'And,': 1, 'factories': 1, 'than': 1, 'gratification\\xe2\\x80\\x94as': 1, 'doorstep.': 1, 'Alba\\n': 1, 'well,': 1, 'thousands': 1, 'work': 1, 'resources': 1, 'December': 1, 'called': 1, 'something': 1, 'toilet': 1, 'dedicated': 1, 'want': 1, 'metropolitan': 1, 'almost': 1, 'God': 1, 'is': 1, 'lifespan,': 1, 'play:': 1, 'involve': 1, 'problem.': 1, 'at': 1, 'need': 1, 'if': 1, 'rumors': 1, 'not': 1, 'responsible': 1, 'write': 1, 'how': 1, 'grand': 1, 'swirl': 1, 'as,': 1, 'Why': 1, 'one-hour': 1, 'picture': 1, 'product': 1, 'plans': 1, 'plan': 1, 'president': 1, '2014,': 1, 'vice': 1, 'flow': 1})\n"
     ]
    }
   ],
   "source": [
    "from collections import Counter\n",
    "c = Counter(words)\n",
    "print c"
   ]
  },
  {
   "cell_type": "code",
   "execution_count": 17,
   "metadata": {
    "collapsed": false
   },
   "outputs": [
    {
     "data": {
      "text/plain": [
       "[('saying', 1),\n",
       " ('all', 1),\n",
       " ('says.', 1),\n",
       " ('increasingly', 1),\n",
       " ('over', 1),\n",
       " ('global', 1),\n",
       " ('soon', 1),\n",
       " ('deliveries', 1),\n",
       " ('profits,', 1),\n",
       " ('four', 1),\n",
       " ('bring', 1),\n",
       " ('looks', 1),\n",
       " ('its', 2),\n",
       " ('also', 2),\n",
       " ('supply', 1),\n",
       " ('should', 2),\n",
       " ('to', 8),\n",
       " ('only', 1),\n",
       " ('announce', 1),\n",
       " ('has', 3),\n",
       " ('world.', 1),\n",
       " ('into', 1),\n",
       " ('world,', 1),\n",
       " ('Prime', 4),\n",
       " ('And', 1),\n",
       " ('network,', 1),\n",
       " ('around', 1),\n",
       " ('prepping', 1),\n",
       " ('working', 2),\n",
       " ('aspirational', 1),\n",
       " ('nearly', 1),\n",
       " ('press', 1),\n",
       " ('areas', 1),\n",
       " ('like', 1),\n",
       " ('countries', 1),\n",
       " ('India', 1),\n",
       " ('leave', 1),\n",
       " ('she', 1),\n",
       " ('team', 1),\n",
       " ('release', 1),\n",
       " ('\\xe2\\x80\\x98magical.\\xe2\\x80\\x99\\xe2\\x80\\x9d', 1),\n",
       " ('wrote', 1),\n",
       " ('process,\\xe2\\x80\\x9d', 1),\n",
       " ('logistics', 1),\n",
       " ('forbid,', 1),\n",
       " ('force', 1),\n",
       " ('paper?\\n\\nStephenie', 1),\n",
       " ('house)', 1),\n",
       " ('humans', 1),\n",
       " ('growth', 1),\n",
       " ('out', 1),\n",
       " ('cargo', 1),\n",
       " ('what', 2),\n",
       " ('for', 2),\n",
       " ('That', 1),\n",
       " ('giving', 1),\n",
       " ('working-backward', 1),\n",
       " ('assembled', 1),\n",
       " ('may', 1),\n",
       " ('Amazon', 4),\n",
       " ('version', 1),\n",
       " ('China', 1),\n",
       " ('planes,', 1),\n",
       " ('probably', 1),\n",
       " ('22-year', 1),\n",
       " ('be', 4),\n",
       " ('we', 1),\n",
       " ('infrastructure', 1),\n",
       " ('favored', 1),\n",
       " ('couriers.', 1),\n",
       " ('hundreds', 1),\n",
       " ('control', 1),\n",
       " ('from', 1),\n",
       " ('UPS', 1),\n",
       " ('wait', 1),\n",
       " ('on', 2),\n",
       " ('chain,', 1),\n",
       " ('service', 1),\n",
       " ('anything', 1),\n",
       " ('of', 9),\n",
       " ('30', 1),\n",
       " ('days', 1),\n",
       " ('experience', 1),\n",
       " ('FedEx', 1),\n",
       " ('products', 1),\n",
       " ('\\xe2\\x80\\x9cWe', 2),\n",
       " ('long-term', 1),\n",
       " ('contingency', 1),\n",
       " ('sprawling', 1),\n",
       " ('Now,', 1),\n",
       " ('gone', 1),\n",
       " ('Landry', 2),\n",
       " ('trucks,', 1),\n",
       " ('(or,', 1),\n",
       " ('long', 1),\n",
       " ('drones', 1),\n",
       " ('actually', 1),\n",
       " ('writing', 1),\n",
       " ('your', 3),\n",
       " ('now.', 1),\n",
       " ('company\\xe2\\x80\\x99s', 1),\n",
       " ('would', 4),\n",
       " ('their', 1),\n",
       " ('concept,', 1),\n",
       " ('warehouses', 1),\n",
       " ('instantaneousness', 1),\n",
       " ('start', 1),\n",
       " ('live', 1),\n",
       " ('poured', 1),\n",
       " ('way', 1),\n",
       " ('\\xe2\\x80\\x94Davey', 1),\n",
       " ('conceptualized', 1),\n",
       " ('was', 1),\n",
       " ('launching', 1),\n",
       " ('more', 1),\n",
       " ('building', 1),\n",
       " ('life', 1),\n",
       " ('Since', 1),\n",
       " ('scaled-down', 1),\n",
       " ('complete', 1),\n",
       " ('that', 3),\n",
       " ('company', 2),\n",
       " ('but', 1),\n",
       " ('delivery', 1),\n",
       " ('immediately.', 1),\n",
       " ('emerges,', 1),\n",
       " ('And,', 1),\n",
       " ('factories', 1),\n",
       " ('than', 1),\n",
       " ('gratification\\xe2\\x80\\x94as', 1),\n",
       " ('Now', 3),\n",
       " ('doorstep.', 1),\n",
       " ('Alba\\n', 1),\n",
       " ('well,', 1),\n",
       " ('thousands', 1),\n",
       " ('work', 1),\n",
       " ('resources', 1),\n",
       " ('December', 1),\n",
       " ('called', 1),\n",
       " ('something', 1),\n",
       " ('and', 8),\n",
       " ('toilet', 1),\n",
       " ('dedicated', 1),\n",
       " ('want', 1),\n",
       " ('metropolitan', 1),\n",
       " ('almost', 1),\n",
       " ('God', 1),\n",
       " ('is', 1),\n",
       " ('lifespan,', 1),\n",
       " ('play:', 1),\n",
       " ('involve', 1),\n",
       " ('problem.', 1),\n",
       " ('as', 3),\n",
       " ('at', 1),\n",
       " ('have', 2),\n",
       " ('in', 7),\n",
       " ('need', 1),\n",
       " ('if', 1),\n",
       " ('rumors', 1),\n",
       " ('not', 1),\n",
       " ('responsible', 1),\n",
       " ('when', 2),\n",
       " ('write', 1),\n",
       " ('how', 1),\n",
       " ('grand', 1),\n",
       " ('swirl', 1),\n",
       " ('you', 4),\n",
       " ('as,', 1),\n",
       " ('Why', 1),\n",
       " ('one-hour', 1),\n",
       " ('picture', 1),\n",
       " ('product', 1),\n",
       " ('plans', 1),\n",
       " ('I', 2),\n",
       " ('plan', 1),\n",
       " ('president', 1),\n",
       " ('2014,', 1),\n",
       " ('a', 4),\n",
       " ('vice', 1),\n",
       " ('flow', 1),\n",
       " ('the', 15)]"
      ]
     },
     "execution_count": 17,
     "metadata": {},
     "output_type": "execute_result"
    }
   ],
   "source": [
    "c.items()"
   ]
  },
  {
   "cell_type": "code",
   "execution_count": null,
   "metadata": {
    "collapsed": true
   },
   "outputs": [],
   "source": []
  }
 ],
 "metadata": {
  "kernelspec": {
   "display_name": "Python 2",
   "language": "python",
   "name": "python2"
  },
  "language_info": {
   "codemirror_mode": {
    "name": "ipython",
    "version": 2
   },
   "file_extension": ".py",
   "mimetype": "text/x-python",
   "name": "python",
   "nbconvert_exporter": "python",
   "pygments_lexer": "ipython2",
   "version": "2.7.11"
  }
 },
 "nbformat": 4,
 "nbformat_minor": 0
}

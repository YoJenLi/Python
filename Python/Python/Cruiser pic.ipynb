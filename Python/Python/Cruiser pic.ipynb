{
 "cells": [
  {
   "cell_type": "code",
   "execution_count": 39,
   "metadata": {
    "collapsed": false
   },
   "outputs": [
    {
     "name": "stdout",
     "output_type": "stream",
     "text": [
      "http://www.allride.com.tw/public/files/product/thumb/N68395-32909S.jpg\n",
      "http://www.allride.com.tw/public/files/product/thumb/N14720-90962S.jpg\n",
      "http://www.allride.com.tw/public/files/product/thumb/N01512-19129S.jpg\n",
      "http://www.allride.com.tw/public/files/product/thumb/N82793-33012S.jpg\n",
      "http://www.allride.com.tw/public/files/product/thumb/N09592-75766S.jpg\n",
      "http://www.allride.com.tw/public/files/product/thumb/N14434-44482S.jpg\n",
      "http://www.allride.com.tw/public/files/product/thumb/N08301-33484S.jpg\n",
      "http://www.allride.com.tw/public/files/product/thumb/N94558-49372S.jpg\n",
      "http://www.allride.com.tw/public/files/product/thumb/N71464-75161S.jpg\n",
      "http://www.allride.com.tw/public/files/product/thumb/N49978-47531S.jpg\n",
      "http://www.allride.com.tw/public/files/product/thumb/N04138-33178S.jpg\n",
      "http://www.allride.com.tw/public/files/product/thumb/N75664-64612S.jpg\n",
      "http://www.allride.com.tw/public/files/product/thumb/N31769-05506S.jpg\n"
     ]
    }
   ],
   "source": [
    "import requests\n",
    "from bs4 import BeautifulSoup as bs\n",
    "import shutil\n",
    "url='http://www.allride.com.tw/mod/product/index.php?y&NodeID=8&pn=0'\n",
    "res = requests.get(url,stream = True)\n",
    "res.encoding = 'big5'\n",
    "soup = bs(res.text)\n",
    "\n",
    "for img in soup.select('.pic img'):\n",
    "    print img['src']\n"
   ]
  },
  {
   "cell_type": "code",
   "execution_count": 45,
   "metadata": {
    "collapsed": false
   },
   "outputs": [],
   "source": [
    "with open('cruiser.txt','w') as f:\n",
    "    f.write(soup.text.encode('utf-8'))"
   ]
  },
  {
   "cell_type": "code",
   "execution_count": null,
   "metadata": {
    "collapsed": true
   },
   "outputs": [],
   "source": []
  }
 ],
 "metadata": {
  "kernelspec": {
   "display_name": "Python 2",
   "language": "python",
   "name": "python2"
  },
  "language_info": {
   "codemirror_mode": {
    "name": "ipython",
    "version": 2
   },
   "file_extension": ".py",
   "mimetype": "text/x-python",
   "name": "python",
   "nbconvert_exporter": "python",
   "pygments_lexer": "ipython2",
   "version": "2.7.11"
  }
 },
 "nbformat": 4,
 "nbformat_minor": 0
}

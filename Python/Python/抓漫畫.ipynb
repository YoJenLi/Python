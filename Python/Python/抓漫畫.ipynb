{
 "cells": [
  {
   "cell_type": "markdown",
   "metadata": {},
   "source": [
    "### 抓取圖片的步驟\n",
    " - import 需要用到的套件\n",
    " - 對要抓取的圖片提出requests\n",
    " - with open()會自動關閉檔案 不用再寫f.close()\n",
    " - 先建立001.jpg空圖檔 'wb'是因為圖片要使用二進位寫入，一般文字檔使用'w'\n",
    " - shutil.copyfileobj()為此套件固定用法，將圖片寫入空白圖檔"
   ]
  },
  {
   "cell_type": "code",
   "execution_count": 2,
   "metadata": {
    "collapsed": true
   },
   "outputs": [],
   "source": [
    "import requests\n",
    "import shutil\n",
    "res = requests.get('http://web4.cartoonmad.com/c86eo736r62/1152/824/001.jpg', stream=True)\n",
    "with open('001.jpg', 'wb') as f:\n",
    "    shutil.copyfileobj(res.raw, f)"
   ]
  },
  {
   "cell_type": "code",
   "execution_count": 3,
   "metadata": {
    "collapsed": false
   },
   "outputs": [],
   "source": [
    "res = requests.get('http://www.cartoomad.com/comic/115208242016003.html')\n",
    "res.encoding = 'big5'"
   ]
  },
  {
   "cell_type": "markdown",
   "metadata": {},
   "source": [
    "### imgsrc = ele['src']...... \n",
    " - Python的forloop使用迭代的方法，意思是img標籤中有幾個ele 就會選取幾個\n",
    " - imgsrc的意思是在img標籤中 ele['src']裡面要包含'jpg' ,'cartoonmad'字串才抓取\n",
    " - src=\"http://web4.cartoonmad.com/c86eo736r62/1152/824/003.jpg\"\n",
    " - nextpage 選擇 a 標籤 class名稱為page 倒數(-1)第一個的href"
   ]
  },
  {
   "cell_type": "code",
   "execution_count": 5,
   "metadata": {
    "collapsed": false
   },
   "outputs": [
    {
     "name": "stdout",
     "output_type": "stream",
     "text": [
      "115208242016004.html\n",
      "http://web4.cartoonmad.com/c86eo736r62/1152/824/003.jpg\n"
     ]
    }
   ],
   "source": [
    "from bs4 import BeautifulSoup\n",
    "soup = BeautifulSoup(res.text)\n",
    "#print soup.select('img')\n",
    "imgsrc =  [ele['src'] for ele in soup.select('img') if 'jpg' in ele['src'] and 'cartoonmad' in ele['src']][0]\n",
    "nextpage =  soup.select('a.pages')[-1]['href']\n",
    "print nextpage\n",
    "print imgsrc"
   ]
  },
  {
   "cell_type": "markdown",
   "metadata": {},
   "source": [
    "### 寫成方法\n",
    "  - fname = url(http://web4.cartoonmad.com/c86eo736r62/1152/824/003.jpg).split('/')[-1] 檔名就會變成 003.jpg\n",
    "  - 路徑可以使用'comic/'字串來表示 但是變數不用加引號"
   ]
  },
  {
   "cell_type": "code",
   "execution_count": 6,
   "metadata": {
    "collapsed": true
   },
   "outputs": [],
   "source": [
    "def savePic(url):\n",
    "    res = requests.get(url, stream=True)\n",
    "    fname = url.split('/')[-1]\n",
    "    with open('comic/'+fname, 'wb') as f:\n",
    "        shutil.copyfileobj(res.raw, f)"
   ]
  },
  {
   "cell_type": "markdown",
   "metadata": {},
   "source": [
    "### 這個方法\n",
    " - 會抓取url(firstpage)的頁面內容 \n",
    " - 用寫好的savePic存圖\n",
    " - 最後傳回下一頁的href \"115208242016004.html\""
   ]
  },
  {
   "cell_type": "code",
   "execution_count": 7,
   "metadata": {
    "collapsed": true
   },
   "outputs": [],
   "source": [
    "def getPageComic(url):\n",
    "    res = requests.get(url)\n",
    "    res.encoding = 'big5'\n",
    "    soup = BeautifulSoup(res.text)\n",
    "    imgsrc =  [ele['src'] for ele in soup.select('img') if 'jpg' in ele['src'] and 'cartoonmad' in ele['src']][0]\n",
    "    savePic(imgsrc) #直接使用定義好的方法存圖\n",
    "    nextpage =  soup.select('a.pages')[-1]['href']\n",
    "    return nextpage"
   ]
  },
  {
   "cell_type": "markdown",
   "metadata": {},
   "source": [
    "### 開始抓漫畫\n",
    " - domain + nextpage ＝ http://www.cartoomad.com/comic/ ＋ 115208242016002.html\n",
    " - while 當html 包含在nextpage裡 就會自動抓一下頁。但是最後一頁並沒有 html 所以會自動停止"
   ]
  },
  {
   "cell_type": "code",
   "execution_count": 9,
   "metadata": {
    "collapsed": false
   },
   "outputs": [],
   "source": [
    "import requests\n",
    "from bs4 import BeautifulSoup\n",
    "# do\n",
    "domain = 'http://www.cartoomad.com/comic/'\n",
    "firstpage = 'http://www.cartoomad.com/comic/115208242016001.html'\n",
    "nextpage = getPageComic(firstpage)\n",
    "# while\n",
    "while 'html' in nextpage: \n",
    "    nextpage = getPageComic(domain + nextpage)"
   ]
  },
  {
   "cell_type": "markdown",
   "metadata": {},
   "source": [
    "### 這個方法比較簡單 不過要先知道總頁數\n",
    " - 會將{}裡面填上1-16\n",
    " - '%02d'% 是將填入的個位數字變成01,02,03 "
   ]
  },
  {
   "cell_type": "code",
   "execution_count": 14,
   "metadata": {
    "collapsed": false
   },
   "outputs": [],
   "source": [
    "import shutil\n",
    "import requests\n",
    "from bs4 import BeautifulSoup as bs\n",
    "url = 'http://web4.cartoonmad.com/c86eo736r62/1152/824/0{}.jpg'\n",
    "jpg = 'comic/{}.jpg'\n",
    "\n",
    "for img in xrange(1,17):\n",
    "    urlall = url.format('%02d'%img)\n",
    "    res = requests.get(urlall,stream = True)\n",
    "    with open(jpg.format('%02d'%img),'wb') as f:\n",
    "        shutil.copyfileobj(res.raw,f)\n"
   ]
  },
  {
   "cell_type": "code",
   "execution_count": 2,
   "metadata": {
    "collapsed": false
   },
   "outputs": [
    {
     "name": "stdout",
     "output_type": "stream",
     "text": [
      "01.jpg 02.jpg 03.jpg 04.jpg 05.jpg 06.jpg 07.jpg 08.jpg 09.jpg 010.jpg 011.jpg 012.jpg 013.jpg 014.jpg 015.jpg 016.jpg\n"
     ]
    }
   ],
   "source": [
    "test = '0{}.jpg'\n",
    "for i in xrange(1,17):\n",
    "    tes = test.format(i)\n",
    "    print tes,"
   ]
  },
  {
   "cell_type": "code",
   "execution_count": 4,
   "metadata": {
    "collapsed": false
   },
   "outputs": [
    {
     "name": "stdout",
     "output_type": "stream",
     "text": [
      "001.jpg 002.jpg 003.jpg 004.jpg 005.jpg 006.jpg 007.jpg 008.jpg 009.jpg 010.jpg 011.jpg 012.jpg 013.jpg 014.jpg 015.jpg 016.jpg\n"
     ]
    }
   ],
   "source": [
    "test2 = '0{}.jpg'\n",
    "for y in xrange(1,17):\n",
    "    tes2 = test2.format('%02d'%y)\n",
    "    print tes2,"
   ]
  },
  {
   "cell_type": "code",
   "execution_count": null,
   "metadata": {
    "collapsed": true
   },
   "outputs": [],
   "source": []
  }
 ],
 "metadata": {
  "kernelspec": {
   "display_name": "Python 2",
   "language": "python",
   "name": "python2"
  },
  "language_info": {
   "codemirror_mode": {
    "name": "ipython",
    "version": 2
   },
   "file_extension": ".py",
   "mimetype": "text/x-python",
   "name": "python",
   "nbconvert_exporter": "python",
   "pygments_lexer": "ipython2",
   "version": "2.7.11"
  }
 },
 "nbformat": 4,
 "nbformat_minor": 0
}

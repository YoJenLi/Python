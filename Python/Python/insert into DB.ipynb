{
 "cells": [
  {
   "cell_type": "markdown",
   "metadata": {},
   "source": [
    "### 創建資料庫"
   ]
  },
  {
   "cell_type": "code",
   "execution_count": 1,
   "metadata": {
    "collapsed": true
   },
   "outputs": [],
   "source": [
    "import sqlite3\n",
    "data = sqlite3.connect('Sal.sqlite') #這裡先連線資料庫 如果沒有 會自動創立\n",
    "cur = data.cursor()#啟動資料庫\n",
    "#create table [tablaname](columnname type),這裡先用英文表示 之後匯出csv比較好改\n",
    "cur.execute('''CREATE TABLE Salary(\n",
    "                a TEXT,\n",
    "                b TEXT,\n",
    "                c TEXT,\n",
    "                d TEXT,\n",
    "                e TEXT,\n",
    "                f TEXT,\n",
    "                g TEXT,\n",
    "                h TEXT,\n",
    "                i TEXT,\n",
    "                j TEXT,\n",
    "                k TEXT,\n",
    "                l TEXT,\n",
    "                m TEXT,\n",
    "                n TEXT,\n",
    "                o TEXT,\n",
    "                p TEXT,\n",
    "                q TEXT,\n",
    "                r TEXT,\n",
    "                s TEXT,\n",
    "                t TEXT,\n",
    "                u TEXT,\n",
    "                v TEXT,\n",
    "                w TEXT,\n",
    "                x TEXT\n",
    "                )''')\n",
    "cur.close()"
   ]
  },
  {
   "cell_type": "markdown",
   "metadata": {},
   "source": [
    "### 將要放入資料庫的指令寫成方法\n",
    " - 這邊我寫成方法 但是要視爬下來的資料形式去修改方法，像2-4行因為編碼問題，才匯入\n",
    " - 重點是資料庫的指令insert into [tablename] values(?,?) 可以寫成變數 然後你要輸入的值一定要跟?號數目相同"
   ]
  },
  {
   "cell_type": "code",
   "execution_count": 2,
   "metadata": {
    "collapsed": true
   },
   "outputs": [],
   "source": [
    "def inser():\n",
    "    import sys  \n",
    "    reload(sys)  \n",
    "    sys.setdefaultencoding('utf8')  \n",
    "    import sqlite3\n",
    "    dc = sqlite3.connect('dc.sqlite')\n",
    "    dc.text_factory = str\n",
    "    cur = dc.cursor()\n",
    "    sql = 'insert into Sas values(?,?,?,?,?,?,?,?,?,?,?,?,?,?,?,?,?,?,?,?,?,?,?,?)'\n",
    "    cur.execute(sql,lis[0:24] )\n",
    "    dc.commit()"
   ]
  },
  {
   "cell_type": "markdown",
   "metadata": {},
   "source": [
    "### 開始執行匯入資料庫\n",
    "   - 重點是怎麼讀資料、資料內容是什麼\n",
    "   - 我的資料是放在salary4資料夾的txt檔 檔案內容長成a,b,c,d.....這樣。使用read()讀出整個檔案會變成單一字串，'a,b,c,d'電腦會這樣解讀它，所以使用split(\",\")以逗號分開然後變成list資料，就可以使用lis[ ]來取值。lis[0] = a  lis[1] = b ....\n",
    "   - 因為寫入資料過程中會遇到不同的狀況，像有些檔案是空的，跑迴圈時就會出現錯誤訊息。要視出現錯誤訊息的種類去排除他，用try,except就可以跳過。讀到檔案後，最後使用寫好的方法，就不用寫一大串了。"
   ]
  },
  {
   "cell_type": "code",
   "execution_count": 3,
   "metadata": {
    "collapsed": true
   },
   "outputs": [],
   "source": [
    "def ins():\n",
    "    for x in xrange(1,6318):\n",
    "        txt = 'salary4/{}.txt'\n",
    "        try:\n",
    "            f = open(txt.format(x), 'r')\n",
    "            text_factory = str\n",
    "            lis =f.read().split(\",\")\n",
    "            inser()\n",
    "        except IOError:\n",
    "            pass"
   ]
  },
  {
   "cell_type": "code",
   "execution_count": null,
   "metadata": {
    "collapsed": true
   },
   "outputs": [],
   "source": []
  }
 ],
 "metadata": {
  "kernelspec": {
   "display_name": "Python 2",
   "language": "python",
   "name": "python2"
  },
  "language_info": {
   "codemirror_mode": {
    "name": "ipython",
    "version": 2
   },
   "file_extension": ".py",
   "mimetype": "text/x-python",
   "name": "python",
   "nbconvert_exporter": "python",
   "pygments_lexer": "ipython2",
   "version": "2.7.11"
  }
 },
 "nbformat": 4,
 "nbformat_minor": 0
}

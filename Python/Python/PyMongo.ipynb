{
 "cells": [
  {
   "cell_type": "code",
   "execution_count": 1,
   "metadata": {
    "collapsed": true
   },
   "outputs": [],
   "source": [
    "import pymongo\n",
    "from pymongo import MongoClient"
   ]
  },
  {
   "cell_type": "code",
   "execution_count": 2,
   "metadata": {
    "collapsed": true
   },
   "outputs": [],
   "source": [
    "client = MongoClient()\n",
    "database = client[\"mongodb\"]\n",
    "collection = database[\"test123\"]"
   ]
  },
  {
   "cell_type": "code",
   "execution_count": 18,
   "metadata": {
    "collapsed": false
   },
   "outputs": [
    {
     "name": "stdout",
     "output_type": "stream",
     "text": [
      "鴻海精密工業股份有限公司 35000 軟體設計工程師\n",
      "鴻海精密工業股份有限公司 49000 電子 / 通訊工程師\n",
      "鴻海精密工業股份有限公司 38000 機構工程師\n",
      "鴻海精密工業股份有限公司 43000 工業設計\n",
      "鴻海精密工業股份有限公司 43000 RF通訊工程師\n",
      "鴻海精密工業股份有限公司 45000 材料研發人員\n",
      "鴻海精密工業股份有限公司 46000 機構工程師\n",
      "鴻海精密工業股份有限公司 48000 其他特殊工程師\n",
      "鴻海精密工業股份有限公司 46000 軟體設計工程師\n",
      "鴻海精密工業股份有限公司 53800 機構工程師\n",
      "鴻海精密工業股份有限公司 47000 水利工程師\n",
      "鴻海精密工業股份有限公司 40000 軟體專案主管\n",
      "鴻海精密工業股份有限公司 42000 機構工程師\n",
      "鴻海精密工業股份有限公司 42000 機構工程師\n",
      "鴻海精密工業股份有限公司 27000 測試工程師\n",
      "鴻海 45000 電子 / 通訊工程師\n",
      "鴻海精密工業股份有限公司 54000 機械工程師\n",
      "鴻海精密工業股份有限公司 35000 通訊軟體工程師\n",
      "鴻海精密工業股份有限公司 37000 韌體設計工程師\n",
      "鴻海精密工業股份有限公司 44000 光電工程師\n",
      "鴻海 33000 其他專案管理師\n",
      "鴻海精密工業股份有限公司 37000 機械工程師\n",
      "鴻海 34000 硬體工程研發主管\n",
      "鴻海精密工業股份有限公司 40000 產品管理師\n",
      "鴻海 60000 生產管理主管\n",
      "鴻海 60000 生產管理主管\n",
      "鴻海精密工業股份有限公司 65000 韌體設計工程師\n",
      "鴻海精密工業股份有限公司 35000 電子 / 通訊工程師\n",
      "鴻海精密工業股份有限公司 30000 軟體設計工程師\n",
      "鴻海精密工業股份有限公司 46000 其他工程研發主管\n",
      "鴻海精密工業股份有限公司 36000 軟體設計工程師\n",
      "鴻海 40000 韌體設計工程師\n",
      "鴻海精密工業股份有限公司 54000 軟體專案主管\n",
      "鴻海精密工業股份有限公司 52000 專案管理主管\n",
      "鴻海精密工業股份有限公司 38000 機構工程師\n",
      "鴻海精密工業股份有限公司 70000 化工化學工程師\n",
      "鴻海精密工業股份有限公司 28000 軟體設計工程師\n",
      "鴻海精密工業股份有限公司 25000 韌體設計工程師\n",
      "----------------------\n",
      "38\n"
     ]
    }
   ],
   "source": [
    "count = 0\n",
    "#正規表示法 內容有符合鴻海字樣 就會顯示出來 '$regex'\n",
    "for post in collection.find(\n",
    "{\"name\":{'$regex':\"鴻海\"}}):\n",
    "    print post[\"name\"],post[\"salary\"],post[\"jobtype\"]\n",
    "    count += 1\n",
    "print \"----------------------\"    \n",
    "print str(count)    \n",
    "    "
   ]
  },
  {
   "cell_type": "code",
   "execution_count": null,
   "metadata": {
    "collapsed": true
   },
   "outputs": [],
   "source": []
  }
 ],
 "metadata": {
  "kernelspec": {
   "display_name": "Python 2",
   "language": "python",
   "name": "python2"
  },
  "language_info": {
   "codemirror_mode": {
    "name": "ipython",
    "version": 2
   },
   "file_extension": ".py",
   "mimetype": "text/x-python",
   "name": "python",
   "nbconvert_exporter": "python",
   "pygments_lexer": "ipython2",
   "version": "2.7.11"
  }
 },
 "nbformat": 4,
 "nbformat_minor": 0
}

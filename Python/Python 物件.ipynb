{
 "cells": [
  {
   "cell_type": "markdown",
   "metadata": {},
   "source": [
    "### 什麼是物件？\n"
   ]
  },
  {
   "cell_type": "markdown",
   "metadata": {},
   "source": [
    "物件裡面有資料（變數，稱屬性）與程式碼（函式，稱方法），他代表某種具體物件唯一的實例。\n",
    "ex:字串'cat','duck'為物件 擁有字串方法 replace()\n",
    "\n",
    "## 當你要建立一個之前沒有人建立過的新物件，必須先建立一個類別來說明他們裡面有些什麼。\n",
    "\n",
    "可以將物件想像成名詞，方法想像為動詞。\n",
    "一個物件代表一個獨立的事物，他的方法負責定義他與其他的事件該如何互動。\n"
   ]
  },
  {
   "cell_type": "markdown",
   "metadata": {},
   "source": [
    "### 用class來定義類別\n",
    "\n",
    "如果將物件比喻成塑膠盒。類別就是製造那個盒子的模具。 例如String是內建類別，可以製作'cat','duck'。"
   ]
  },
  {
   "cell_type": "code",
   "execution_count": 1,
   "metadata": {
    "collapsed": true
   },
   "outputs": [],
   "source": [
    "class Person():\n",
    "    def __init__(self):\n",
    "        pass"
   ]
  },
  {
   "cell_type": "markdown",
   "metadata": {},
   "source": [
    "## __init__ (), self\n",
    "\n",
    "__init__() 是特殊的名稱，代表一個方法，這個方法會用他的類別定義來初始化一個單一物件。雙底線稱為dunder\n",
    "\n",
    "self引數說明他參考至自己本身這個物件。\n",
    "\n",
    "__init__()的第一個參數必須是self"
   ]
  },
  {
   "cell_type": "code",
   "execution_count": 3,
   "metadata": {
    "collapsed": false
   },
   "outputs": [
    {
     "name": "stdout",
     "output_type": "stream",
     "text": [
      "Elmer Fudd\n"
     ]
    }
   ],
   "source": [
    "class Person():\n",
    "    def __init__(self,name):\n",
    "        self.name = name\n",
    "hunter = Person('Elmer Fudd')   \n",
    "\n",
    "print hunter.name"
   ]
  },
  {
   "cell_type": "markdown",
   "metadata": {},
   "source": [
    "### hunter = Person('Elmer Fudd')  所做的事情\n",
    " - 查看Person類別的定義\n",
    " - 在記憶體中實例化(建立)一個新物件\n",
    " - 呼叫該物件的__init__方法，傳遞這個新物件給self，以及另一個引述('Elmer Fudd')給name\n",
    " - 在新物件中儲存name的值\n",
    " - 回傳新物件\n",
    " - 將名稱hunter 指派給物件"
   ]
  },
  {
   "cell_type": "markdown",
   "metadata": {},
   "source": [
    "### 繼承"
   ]
  },
  {
   "cell_type": "code",
   "execution_count": 4,
   "metadata": {
    "collapsed": false
   },
   "outputs": [
    {
     "name": "stdout",
     "output_type": "stream",
     "text": [
      "I am a Car\n",
      "I am a Car\n"
     ]
    }
   ],
   "source": [
    "class Car():\n",
    "    def exclaim(self):\n",
    "        print \"I am a Car\"\n",
    "class Yugo(Car):\n",
    "    pass\n",
    "\n",
    "givemecar = Car()\n",
    "givemeyugo = Yugo()\n",
    "\n",
    "givemecar.exclaim()\n",
    "givemeyugo.exclaim()"
   ]
  },
  {
   "cell_type": "markdown",
   "metadata": {},
   "source": [
    "### 覆寫"
   ]
  },
  {
   "cell_type": "code",
   "execution_count": 6,
   "metadata": {
    "collapsed": false
   },
   "outputs": [
    {
     "name": "stdout",
     "output_type": "stream",
     "text": [
      "I am a Car\n",
      "I am a Yugo,Much like a Car but more Yugo-ish\n"
     ]
    }
   ],
   "source": [
    "class Car():\n",
    "    def exclaim(self):\n",
    "        print \"I am a Car\"\n",
    "class Yugo(Car):\n",
    "    def exclaim(self):\n",
    "        print \"I am a Yugo,Much like a Car but more Yugo-ish\"\n",
    "    \n",
    "###製作兩個物件\n",
    "\n",
    "a = Car()\n",
    "b = Yugo()\n",
    "\n",
    "a.exclaim()\n",
    "b.exclaim()"
   ]
  },
  {
   "cell_type": "code",
   "execution_count": null,
   "metadata": {
    "collapsed": true
   },
   "outputs": [],
   "source": []
  }
 ],
 "metadata": {
  "kernelspec": {
   "display_name": "Python 2",
   "language": "python",
   "name": "python2"
  },
  "language_info": {
   "codemirror_mode": {
    "name": "ipython",
    "version": 2
   },
   "file_extension": ".py",
   "mimetype": "text/x-python",
   "name": "python",
   "nbconvert_exporter": "python",
   "pygments_lexer": "ipython2",
   "version": "2.7.11"
  }
 },
 "nbformat": 4,
 "nbformat_minor": 0
}

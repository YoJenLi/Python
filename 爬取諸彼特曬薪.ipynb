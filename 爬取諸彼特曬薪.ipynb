{
 "cells": [
  {
   "cell_type": "code",
   "execution_count": 5,
   "metadata": {
    "collapsed": false
   },
   "outputs": [],
   "source": [
    "import os\n",
    "with open(\"sal.txt\", 'w') as f:\n",
    "    url = 'http://career.zhupiter.com/query-profile-detail.php?ProId={}'\n",
    "    for i in xrange(1,6319):\n",
    "        f.write(url.format(i)+'\\n')\n",
    "        "
   ]
  },
  {
   "cell_type": "code",
   "execution_count": 6,
   "metadata": {
    "collapsed": true
   },
   "outputs": [],
   "source": [
    "os.mkdir('salary')"
   ]
  },
  {
   "cell_type": "code",
   "execution_count": 9,
   "metadata": {
    "collapsed": false
   },
   "outputs": [],
   "source": [
    "import requests\n",
    "from bs4 import BeautifulSoup as bs\n",
    "with open(\"sal.txt\",'r') as f:\n",
    "    for url in f.readlines():\n",
    "        res = requests.get(url)\n",
    "        soup = bs(res.text)\n",
    "        title = url.strip().split('ProId=')[1]\n",
    "        filename = 'salary/{}.txt'.format(title)\n",
    "        with open(filename,'w') as f2:\n",
    "            f2.write(res.text.encode('utf-8'))"
   ]
  },
  {
   "cell_type": "code",
   "execution_count": 84,
   "metadata": {
    "collapsed": false
   },
   "outputs": [],
   "source": [
    "import requests\n",
    "from bs4 import BeautifulSoup as bs\n",
    "with open(\"sal.txt\",'r') as f:\n",
    "    \n",
    "    for url in f.readlines():\n",
    "        headers = {\n",
    "            'Cookie':'PHPSESSID=l9ksee4c6ocop9hou2nkiujo32; _gat=1; _ga=GA1.2.917281050.1458117390',\n",
    "            'Host':'career.zhupiter.com',\n",
    "            'Referer':'http://career.zhupiter.com/query-profile.php?Step=1&ComName=%E9%B4%BB%E6%B5%B7%E7%B2%BE%E5%AF%86%E5%B7%A5%E6%A5%AD%E8%82%A1%E4%BB%BD%E6%9C%89%E9%99%90%E5%85%AC%E5%8F%B8&InduId=0&JobId=0&LocaName=&Seniority=&AcSex=-1&ProOld=&EduId=-1&Pay=&ComSelTp=1',\n",
    "            'Upgrade-Insecure-Requests':'1',\n",
    "            'User-Agent':'Mozilla/5.0 (Macintosh; Intel Mac OS X 10_11_4) AppleWebKit/537.36 (KHTML, like Gecko) Chrome/49.0.2623.110 Safari/537.36'\n",
    "                    }\n",
    "        rs = requests.session()\n",
    "        res = rs.get(url,headers = headers)\n",
    "        soup = bs(res.text)\n",
    "        name = url.strip().split('ProId=')[1]\n",
    "        filename = 'salary5/{}.txt'.format(name)\n",
    "        with open(filename,'w') as f2 :\n",
    "            try:\n",
    "                for i in xrange(2,30):\n",
    "                    title = soup.select('.DjTrCol2 td b')[i].text\n",
    "                    section = ','\n",
    "                    \n",
    "                    \n",
    "                    f2.write(title.strip().encode('utf-8')+section)               \n",
    "            except IndexError:\n",
    "                pass"
   ]
  },
  {
   "cell_type": "code",
   "execution_count": 15,
   "metadata": {
    "collapsed": false
   },
   "outputs": [
    {
     "name": "stdout",
     "output_type": "stream",
     "text": [
      "公司：\n",
      "名稱: 世環國際股份有限公司\n",
      "                ，產業類別: 電腦及消費性電子製造業\n",
      "職業類別：\n",
      "硬體工程研發主管\n",
      "人員數：\n",
      "公司總人數 : 1-10 人\n",
      "            ，本身無管理團隊。\n",
      "工作地點：\n",
      "台北市\n",
      "核薪時資訊：\n",
      "年資: 10 年\n",
      "                        年齡: 35 歲\n",
      "            最高學歷: 大學/五專\n",
      "薪資類型：\n",
      "正職\n",
      "薪資(薪水)：\n",
      "給付方式: 月薪\n",
      "            ，薪資貨幣: 台幣\n",
      "            ，起始本薪(月薪): \n",
      "                            (登入系統者才可看)\n",
      "津貼 (年加總)：\n",
      "0 元台幣。\n",
      "獎金每年平均月數：\n",
      "1 個月\n",
      "技術股：\n",
      "(登入系統者才可看)\n",
      "年平均分紅股數：\n",
      "(登入系統者才可看)\n",
      "加班費與業務獎金：\n",
      "加班費: 無。\n",
      "            業務獎金抽成: 無\n",
      "            ，抽成比率: 0 %。\n",
      "選擇權：\n",
      "(登入系統者才可看)\n",
      "離職理由：\n",
      "欠薪\n",
      "更多薪資表細節描述：\n",
      "自2014年無法如期支付薪資及供應商貨款,經營及業務方式閒適,適合想在內科吹冷氣做副業的求職者.\n",
      "薪水條編號：\n",
      "6318\n",
      "刊登時間：\n",
      "2016-03-28 15:15:42\n"
     ]
    }
   ],
   "source": [
    "from bs4 import BeautifulSoup as bs\n",
    "def salary(cur):\n",
    "            with open('salary/6318.txt','r') as f:\n",
    "    resopnse_text = f.read()\n",
    "soup = bs(''.join(resopnse_text),\"lxml\")\n",
    "try:\n",
    "    for i in xrange(20,54):\n",
    "        #title = soup.findAll('td')[i].text\n",
    "        content = soup.findAll('td')[i].text\n",
    "        print ''.join(content.strip())\n",
    "                \n",
    "except IndexError:\n",
    "                pass"
   ]
  },
  {
   "cell_type": "code",
   "execution_count": 44,
   "metadata": {
    "collapsed": false
   },
   "outputs": [],
   "source": [
    "\n",
    "     with open('salary/6318.txt','r') as f:\n",
    "        resopnse_text = f.read()\n",
    "        soup = bs(''.join(resopnse_text),\"lxml\")\n",
    "        for i in xrange(20,54):\n",
    "            content = soup.findAll('td')[i].text\n",
    "            ret = [''.join(content.strip())]\n",
    "            cur.execute(sql,ret)            \n"
   ]
  },
  {
   "cell_type": "code",
   "execution_count": 60,
   "metadata": {
    "collapsed": false
   },
   "outputs": [],
   "source": [
    "import requests\n",
    "from bs4 import BeautifulSoup as bs\n",
    "sql =\"insert into Salary(COMPANY,TYPE,EMPLOYEE,LOCATION,WORKINGTIME ,IMFOMATION,SALARY TYPE,PAY,SUBSIDY,BONUS,SHARE, BOBUSSHARE,OVERTIME,OPTION,REASONS,NUMBER,POST TIME) values(?,?,?,?,?,?,?,?,?,?,?,?,?,?,?,?,?)\"\n",
    "def salary(cur):\n",
    "    url = 'http://career.zhupiter.com/query-profile-detail.php?ProId=6318'\n",
    "    res = requests.get(url)\n",
    "    soup = bs(res.text,\"lxml\")\n",
    "    #for i in xrange(0,36,+2):\n",
    "    #title = soup.select('.DjTrCol2 td')[i].text\n",
    "    #content = soup.select('.DjTrCol2 td')[i+1].text\n",
    "    ret = [soup.select('.DjTrCol2 td')[1].text,soup.select('.DjTrCol2 td')[3].text,soup.select('.DjTrCol2 td')[5].text]                                     \n",
    "    cur.execute(sql,ret)\n",
    "\n",
    "db = sqlite3.connect('salary.db')\n",
    "cur = db.cursor()\n",
    "db.commit()"
   ]
  },
  {
   "cell_type": "code",
   "execution_count": 54,
   "metadata": {
    "collapsed": false
   },
   "outputs": [],
   "source": [
    "import sqlite3\n",
    "db = sqlite3.connect('salary.db')\n",
    "cur = db.cursor()\n"
   ]
  },
  {
   "cell_type": "code",
   "execution_count": 24,
   "metadata": {
    "collapsed": false
   },
   "outputs": [
    {
     "data": {
      "text/plain": [
       "<sqlite3.Cursor at 0x104b83960>"
      ]
     },
     "execution_count": 24,
     "metadata": {},
     "output_type": "execute_result"
    }
   ],
   "source": [
    "cur.execute('''CREATE TABLE IF NOT EXISTS Salay(\n",
    "            COMPANY TEXT,\n",
    "            TYPE TEXT,\n",
    "            EMPLOYEE TEXT,\n",
    "            LOCATION TEXT,\n",
    "            WORKINGTIME TEXT,\n",
    "            INFOMATION TEXT,\n",
    "            SALARY TYPE TEXT,\n",
    "            PAY TEXT,\n",
    "            SUBSIDY TEXT,\n",
    "            BONUS TEXT,\n",
    "            SHARE TEXT,\n",
    "            BONUSSHARE TEXT,\n",
    "            OVERTIME TEXT,\n",
    "            OPTION TEXT,\n",
    "            REASONS TEXT,\n",
    "            NUMBER INTEGER,\n",
    "            POST TIME TEXT\n",
    "            )''')"
   ]
  },
  {
   "cell_type": "code",
   "execution_count": 4,
   "metadata": {
    "collapsed": false
   },
   "outputs": [
    {
     "name": "stdout",
     "output_type": "stream",
     "text": [
      "名稱: 世環國際股份有限公司\n",
      "，產業類別: 電腦及消費性電子製造業硬體工程研發主管公司總人數 : 1-10 人\n",
      "，本身無管理團隊。台北市年資: 10 年\n",
      "年齡: 35 歲\n",
      "最高學歷: 大學/五專正職給付方式: 月薪\n",
      "，薪資貨幣: 台幣\n",
      "，起始本薪(月薪):\n",
      "(登入系統者才可看)0 元台幣。1 個月(登入系統者才可看)(登入系統者才可看)加班費: 無。\n",
      "業務獎金抽成: 無\n",
      "，抽成比率: 0 %。(登入系統者才可看)欠薪自2014年無法如期支付薪資及供應商貨款,經營及業務方式閒適,適合想在內科吹冷氣做副業的求職者.63182016-03-28 15:15:42\n"
     ]
    }
   ],
   "source": [
    "with open('salary2/6318.txt','r') as f:\n",
    "    for line in f.readlines():\n",
    "        print ''.join(line.strip())"
   ]
  },
  {
   "cell_type": "code",
   "execution_count": 30,
   "metadata": {
    "collapsed": false
   },
   "outputs": [
    {
     "name": "stdout",
     "output_type": "stream",
     "text": [
      "鴻海精密工業股份有限公司\n",
      "電腦及消費性電子製造業\n",
      "產品管理師\n",
      "10000-\n",
      "深圳\n",
      "08\n",
      "17\n",
      "9\n",
      "08\n",
      "19\n",
      "11\n",
      "0\n",
      "25\n",
      "碩士\n",
      "正職\n",
      "月薪\n",
      "台幣\n",
      "40000\n",
      "200000\n",
      "0\n",
      "0\n",
      "0\n",
      "0\n",
      "無\n",
      "無\n",
      "0\n",
      "0\n",
      "0\n"
     ]
    }
   ],
   "source": [
    "import requests\n",
    "from bs4 import BeautifulSoup as bs\n",
    "url = 'http://career.zhupiter.com/query-profile-detail.php?ProId=6322'\n",
    "headers = {\n",
    "'Cookie':'PHPSESSID=l9ksee4c6ocop9hou2nkiujo32; _ga=GA1.2.917281050.1458117390',\n",
    "'Host':'career.zhupiter.com',\n",
    "'Referer':'http://career.zhupiter.com/',\n",
    "'Upgrade-Insecure-Requests':'1',\n",
    "'User-Agent':'Mozilla/5.0 (Macintosh; Intel Mac OS X 10_11_4) AppleWebKit/537.36 (KHTML, like Gecko) Chrome/49.0.2623.110 Safari/537.36'\n",
    "}\n",
    "rs = requests.session()\n",
    "res = rs.get(url,headers = headers)\n",
    "soup = bs(res.text)\n",
    "try:\n",
    "   \n",
    "    for i in xrange(2,30):\n",
    "            \n",
    "            con = soup.select('.DjTrCol2 td b')[i].text\n",
    "            print con             \n",
    "except IndexError:\n",
    "    pass"
   ]
  },
  {
   "cell_type": "code",
   "execution_count": 2,
   "metadata": {
    "collapsed": false
   },
   "outputs": [
    {
     "name": "stdout",
     "output_type": "stream",
     "text": [
      "電腦及消費性電子製造業\n"
     ]
    }
   ],
   "source": [
    "f = open('salary4/6317.txt', 'r') \n",
    "text_factory = str\n",
    "dic =f.read().split(\",\")\n",
    "print dic[1]\n",
    "\n",
    "    \n",
    "    \n",
    "\n",
    "    "
   ]
  },
  {
   "cell_type": "code",
   "execution_count": 109,
   "metadata": {
    "collapsed": false
   },
   "outputs": [],
   "source": [
    "with open('salary4/6317.txt', 'r'):\n",
    "    dic =f.read().split(\",\")\n",
    "    print dic"
   ]
  },
  {
   "cell_type": "code",
   "execution_count": 71,
   "metadata": {
    "collapsed": false
   },
   "outputs": [
    {
     "name": "stderr",
     "output_type": "stream",
     "text": [
      "ERROR: An unexpected error occurred while tokenizing input\n",
      "The following traceback may be corrupted or invalid\n",
      "The error message is: ('EOF in multi-line string', (1, 17))\n",
      "\n"
     ]
    },
    {
     "ename": "OperationalError",
     "evalue": "table Sas already exists",
     "output_type": "error",
     "traceback": [
      "\u001b[0;31m---------------------------------------------------------------------------\u001b[0m",
      "\u001b[0;31mOperationalError\u001b[0m                          Traceback (most recent call last)",
      "\u001b[0;32m<ipython-input-71-0a8d5b2cfb05>\u001b[0m in \u001b[0;36m<module>\u001b[0;34m()\u001b[0m\n\u001b[1;32m     27\u001b[0m                 \u001b[0mw\u001b[0m \u001b[0mTEXT\u001b[0m\u001b[0;34m,\u001b[0m\u001b[0;34m\u001b[0m\u001b[0m\n\u001b[1;32m     28\u001b[0m                 \u001b[0mx\u001b[0m \u001b[0mTEXT\u001b[0m\u001b[0;34m\u001b[0m\u001b[0m\n\u001b[0;32m---> 29\u001b[0;31m                 )''')\n\u001b[0m\u001b[1;32m     30\u001b[0m \u001b[0;34m\u001b[0m\u001b[0m\n\u001b[1;32m     31\u001b[0m \u001b[0mcur\u001b[0m\u001b[0;34m.\u001b[0m\u001b[0mexecute\u001b[0m\u001b[0;34m(\u001b[0m\u001b[0;34m\"INSERT INTO Sas VALUES(f.read())\"\u001b[0m\u001b[0;34m)\u001b[0m\u001b[0;34m\u001b[0m\u001b[0m\n",
      "\u001b[0;31mOperationalError\u001b[0m: table Sas already exists"
     ]
    }
   ],
   "source": [
    "import sqlite3\n",
    "dc = sqlite3.connect('dc.sqlite')\n",
    "cur = dc.cursor()\n",
    "cur.execute('''CREATE TABLE Sas(\n",
    "                a TEXT,\n",
    "                b TEXT,\n",
    "                c TEXT,\n",
    "                d TEXT,\n",
    "                e TEXT,\n",
    "                f TEXT,\n",
    "                g TEXT,\n",
    "                h TEXT,\n",
    "                i TEXT,\n",
    "                j TEXT,\n",
    "                k TEXT,\n",
    "                l TEXT,\n",
    "                m TEXT,\n",
    "                n TEXT,\n",
    "                o TEXT,\n",
    "                p TEXT,\n",
    "                q TEXT,\n",
    "                r TEXT,\n",
    "                s TEXT,\n",
    "                t TEXT,\n",
    "                u TEXT,\n",
    "                v TEXT,\n",
    "                w TEXT,\n",
    "                x TEXT\n",
    "                )''')\n",
    "\n"
   ]
  },
  {
   "cell_type": "raw",
   "metadata": {},
   "source": [
    "f = open('salary4/6317.txt', 'r') \n",
    "text_factory = str\n",
    "dic =f.read().split(\",\")\n",
    "print dic[0]"
   ]
  },
  {
   "cell_type": "code",
   "execution_count": 9,
   "metadata": {
    "collapsed": true
   },
   "outputs": [],
   "source": [
    "f = open('salary4/6314.txt', 'r') \n",
    "text_factory = str\n",
    "dic =f.read().split(\",\")\n",
    "print dic[0]"
   ]
  },
  {
   "cell_type": "code",
   "execution_count": 10,
   "metadata": {
    "collapsed": false
   },
   "outputs": [],
   "source": [
    "import sys  \n",
    "reload(sys)  \n",
    "sys.setdefaultencoding('utf8')  \n",
    "import sqlite3\n",
    "dc = sqlite3.connect('dc.sqlite')\n",
    "dc.text_factory = str\n",
    "cur = dc.cursor()\n",
    "sql = 'insert into Sas values(?,?,?,?,?,?,?,?,?,?,?,?,?,?,?,?,?,?,?,?,?,?,?,?)'\n",
    "cur.execute(sql,dic[0:24] )\n",
    "dc.commit()"
   ]
  },
  {
   "cell_type": "code",
   "execution_count": 95,
   "metadata": {
    "collapsed": false
   },
   "outputs": [
    {
     "ename": "ProgrammingError",
     "evalue": "Incorrect number of bindings supplied. The current statement uses 24, and there are 1 supplied.",
     "output_type": "error",
     "traceback": [
      "\u001b[0;31m---------------------------------------------------------------------------\u001b[0m",
      "\u001b[0;31mProgrammingError\u001b[0m                          Traceback (most recent call last)",
      "\u001b[0;32m<ipython-input-95-82eb7f46bee9>\u001b[0m in \u001b[0;36m<module>\u001b[0;34m()\u001b[0m\n\u001b[1;32m     10\u001b[0m     \u001b[0;32mwith\u001b[0m \u001b[0mopen\u001b[0m\u001b[0;34m(\u001b[0m\u001b[0mpath\u001b[0m \u001b[0;34m+\u001b[0m \u001b[0ms\u001b[0m\u001b[0;34m,\u001b[0m\u001b[0;34m'r'\u001b[0m\u001b[0;34m)\u001b[0m \u001b[0;32mas\u001b[0m \u001b[0mf\u001b[0m\u001b[0;34m:\u001b[0m\u001b[0;34m\u001b[0m\u001b[0m\n\u001b[1;32m     11\u001b[0m         \u001b[0mdic\u001b[0m \u001b[0;34m=\u001b[0m\u001b[0mf\u001b[0m\u001b[0;34m.\u001b[0m\u001b[0mread\u001b[0m\u001b[0;34m(\u001b[0m\u001b[0;34m)\u001b[0m\u001b[0;34m.\u001b[0m\u001b[0msplit\u001b[0m\u001b[0;34m(\u001b[0m\u001b[0;34m\",\"\u001b[0m\u001b[0;34m)\u001b[0m\u001b[0;34m\u001b[0m\u001b[0m\n\u001b[0;32m---> 12\u001b[0;31m         \u001b[0mcur\u001b[0m\u001b[0;34m.\u001b[0m\u001b[0mexecute\u001b[0m\u001b[0;34m(\u001b[0m\u001b[0msql\u001b[0m\u001b[0;34m,\u001b[0m\u001b[0mdic\u001b[0m\u001b[0;34m[\u001b[0m\u001b[0;36m0\u001b[0m\u001b[0;34m:\u001b[0m\u001b[0;36m24\u001b[0m\u001b[0;34m]\u001b[0m\u001b[0;34m)\u001b[0m\u001b[0;34m\u001b[0m\u001b[0m\n\u001b[0m\u001b[1;32m     13\u001b[0m         \u001b[0mdc\u001b[0m\u001b[0;34m.\u001b[0m\u001b[0mcommit\u001b[0m\u001b[0;34m(\u001b[0m\u001b[0;34m)\u001b[0m\u001b[0;34m\u001b[0m\u001b[0m\n\u001b[1;32m     14\u001b[0m \u001b[0mdc\u001b[0m\u001b[0;34m.\u001b[0m\u001b[0mclose\u001b[0m\u001b[0;34m(\u001b[0m\u001b[0;34m)\u001b[0m\u001b[0;34m\u001b[0m\u001b[0m\n",
      "\u001b[0;31mProgrammingError\u001b[0m: Incorrect number of bindings supplied. The current statement uses 24, and there are 1 supplied."
     ]
    }
   ],
   "source": [
    "import sqlite3\n",
    "import os\n",
    "dc = sqlite3.connect('dc.sqlite')\n",
    "dc.text_factory = str\n",
    "cur = dc.cursor()\n",
    "sql = 'insert into Sas values(?,?,?,?,?,?,?,?,?,?,?,?,?,?,?,?,?,?,?,?,?,?,?,?)'\n",
    "path = 'salary4/'\n",
    "os.listdir(path)\n",
    "for s in os.listdir(path):\n",
    "    with open(path + s,'r') as f:\n",
    "        dic =f.read().split(\",\")\n",
    "        cur.execute(sql,dic[0:24])\n",
    "        dc.commit()\n",
    "dc.close()        "
   ]
  },
  {
   "cell_type": "code",
   "execution_count": null,
   "metadata": {
    "collapsed": true
   },
   "outputs": [],
   "source": [
    "import sqlite3\n",
    "dc = sqlite3.connect('dc.sqlite')\n",
    "dc.text_factory = str\n",
    "cur = dc.cursor()\n",
    "sql = 'insert into Sas values(?,?,?,?,?,?,?,?,?,?,?,?,?,?,?,?,?,?,?,?,?,?,?,?)'\n",
    "cur.execute(sql,dic[0:24] )\n",
    "dc.commit()"
   ]
  },
  {
   "cell_type": "code",
   "execution_count": 6,
   "metadata": {
    "collapsed": true
   },
   "outputs": [],
   "source": [
    "def con():\n",
    "    a = 1\n",
    "    print a\n",
    "    "
   ]
  },
  {
   "cell_type": "code",
   "execution_count": 2,
   "metadata": {
    "collapsed": false
   },
   "outputs": [
    {
     "data": {
      "text/plain": [
       "<function __main__.con>"
      ]
     },
     "execution_count": 2,
     "metadata": {},
     "output_type": "execute_result"
    }
   ],
   "source": [
    "con"
   ]
  },
  {
   "cell_type": "code",
   "execution_count": 7,
   "metadata": {
    "collapsed": false
   },
   "outputs": [
    {
     "name": "stdout",
     "output_type": "stream",
     "text": [
      "1\n"
     ]
    }
   ],
   "source": [
    "con()"
   ]
  },
  {
   "cell_type": "code",
   "execution_count": 5,
   "metadata": {
    "collapsed": false
   },
   "outputs": [
    {
     "data": {
      "text/plain": [
       "'q'"
      ]
     },
     "execution_count": 5,
     "metadata": {},
     "output_type": "execute_result"
    }
   ],
   "source": [
    "ac = 'q,w,e,e,r'\n",
    "dc = ac.split(',')\n",
    "dc[0]"
   ]
  },
  {
   "cell_type": "code",
   "execution_count": null,
   "metadata": {
    "collapsed": true
   },
   "outputs": [],
   "source": []
  }
 ],
 "metadata": {
  "kernelspec": {
   "display_name": "Python 2",
   "language": "python",
   "name": "python2"
  },
  "language_info": {
   "codemirror_mode": {
    "name": "ipython",
    "version": 2
   },
   "file_extension": ".py",
   "mimetype": "text/x-python",
   "name": "python",
   "nbconvert_exporter": "python",
   "pygments_lexer": "ipython2",
   "version": "2.7.11"
  }
 },
 "nbformat": 4,
 "nbformat_minor": 0
}

{
 "cells": [
  {
   "cell_type": "markdown",
   "metadata": {},
   "source": [
    "## TF-IDF的主要思想：\n",
    "### 如果某個詞或短語在一篇文章中出現的頻率TF高，並且在其他文章中很少出現，\n",
    "### 則認為此詞或者短語具有很好的類別區分能力，適合用來分類。"
   ]
  },
  {
   "cell_type": "code",
   "execution_count": 1,
   "metadata": {
    "collapsed": false
   },
   "outputs": [],
   "source": [
    "import re\n",
    "from pymongo import MongoClient\n",
    "from sklearn.feature_extraction.text import TfidfVectorizer\n",
    "import numpy as np\n",
    "import jieba\n",
    "import time\n",
    "import sys"
   ]
  },
  {
   "cell_type": "markdown",
   "metadata": {},
   "source": [
    "### 連接MongoDB"
   ]
  },
  {
   "cell_type": "code",
   "execution_count": 2,
   "metadata": {
    "collapsed": true
   },
   "outputs": [],
   "source": [
    "client = MongoClient('127.0.0.1',27017)\n",
    "database = client['mongo']\n",
    "collection =database['ptt']"
   ]
  },
  {
   "cell_type": "markdown",
   "metadata": {},
   "source": [
    "### 連接中文詞庫及自建詞庫"
   ]
  },
  {
   "cell_type": "code",
   "execution_count": 3,
   "metadata": {
    "collapsed": false
   },
   "outputs": [
    {
     "name": "stderr",
     "output_type": "stream",
     "text": [
      "Building prefix dict from C:\\Users\\JAMES\\dict.txt.big ...\n",
      "Loading model from cache C:\\Users\\JAMES\\AppData\\Local\\Temp\\jieba.ubc5c2e475c644ff0bba030882b6c29ac.cache\n",
      "Loading model cost 1.865 seconds.\n",
      "Prefix dict has been built succesfully.\n"
     ]
    }
   ],
   "source": [
    "jieba.set_dictionary('dict.txt.big')\n",
    "jieba.load_userdict(\"dict_keyw.txt\")     #加入自建詞庫\n",
    "jieba.load_userdict(\"dict_cbdic.txt\")"
   ]
  },
  {
   "cell_type": "code",
   "execution_count": 4,
   "metadata": {
    "collapsed": false
   },
   "outputs": [],
   "source": [
    "def tfIdf(content):\n",
    "    vectorizer = TfidfVectorizer()\n",
    "    X = vectorizer.fit_transform(content)  \n",
    "    weight = X.toarray()\n",
    "    features = vectorizer.get_feature_names()\n",
    "    print (\"特徵值數量:\",len(features))\n",
    "    return weight, features"
   ]
  },
  {
   "cell_type": "code",
   "execution_count": 5,
   "metadata": {
    "collapsed": true
   },
   "outputs": [],
   "source": [
    "def getTopWeight(weight, features, resp_count, top_n):\n",
    "    top_features = []\n",
    "    for n in range(0,resp_count):\n",
    "        indices = np.argsort(weight[n])[::-1]\n",
    "        top_features.append([features[i] for i in indices[:top_n]])\n",
    "    return top_features    "
   ]
  },
  {
   "cell_type": "code",
   "execution_count": 12,
   "metadata": {
    "collapsed": false
   },
   "outputs": [
    {
     "name": "stdout",
     "output_type": "stream",
     "text": [
      "查詢結果的第一筆資料標題: Re: [問卦] 台中有成為新的首都的潛力嗎?\n",
      "查詢結果資料總筆數: 208\n",
      "querry+jieba 的時間 2.974297946845013 秒\n",
      "特徵值數量: 14962\n",
      "計算tf-idf的時間 0.14979071771517738 秒\n",
      "排序與取值的時間 0.06742327870597364 秒\n"
     ]
    }
   ],
   "source": [
    "time_start = time.clock()\n",
    "content = []\n",
    "\n",
    "tag1 = \"颱風\"\n",
    "tag2 = \"台灣\"\n",
    "\n",
    "querry_resp = collection.find({\"$and\":[\n",
    "            {\"content\":{\"$regex\":tag1}},\n",
    "            {\"content\":{\"$regex\":tag2}},\n",
    "        ]})\n",
    "print(\"查詢結果的第一筆資料標題:\",querry_resp[0][\"title\"])\n",
    "#print('--------------------------------------------------------')\n",
    "#print(\"查詢結果的第一筆資料內容:\",querry_resp[0][\"content\"])\n",
    "\n",
    "for post in querry_resp:\n",
    "    summary = post['content']\n",
    "    content.append('/'.join(jieba.cut(summary)))\n",
    "    \n",
    "#總文章數量\n",
    "resp_count = querry_resp.count()\n",
    "print (\"查詢結果資料總筆數:\", resp_count)\n",
    "time_step1 = time.clock()\n",
    "print(\"querry+jieba 的時間\", time_step1-time_start,\"秒\")\n",
    "\n",
    "weight, features = tfIdf(content)\n",
    "time_step2 = time.clock()\n",
    "print(\"計算tf-idf的時間\",time_step2-time_step1,\"秒\")\n",
    "top_num = 20\n",
    "tf_idf_resp = getTopWeight(weight, features, resp_count, top_num)\n",
    "time_step3 = time.clock()\n",
    "print(\"排序與取值的時間\",time_step3-time_step2,\"秒\")"
   ]
  },
  {
   "cell_type": "code",
   "execution_count": 13,
   "metadata": {
    "collapsed": false
   },
   "outputs": [
    {
     "name": "stdout",
     "output_type": "stream",
     "text": [
      "總共有 4160 個詞\n",
      "其中共有 3423 個不重複的詞\n",
      "每個詞平均重複出現 1.21530820917324 次\n",
      "標準差 0.8272170256640892 次\n",
      "-----------------------\n",
      "列出次數最高的前20個詞與次數:\n",
      "颱風假 15\n",
      "柯文哲 12\n",
      "補班 12\n",
      "放假 11\n",
      "地震 11\n",
      "日本 10\n",
      "柯p 10\n",
      "資方 9\n",
      "颱風 9\n",
      "就是 8\n",
      "勞工 8\n",
      "完整 8\n",
      "沒有 8\n",
      "台灣 8\n",
      "台北 7\n",
      "市長 7\n",
      "補課 7\n",
      "公司 6\n",
      "現在 6\n",
      "一個 6\n",
      "-----------------------\n",
      "門檻設定為mean的2個標準差範圍 2.8697422605014182 次\n",
      "共 140.0 個詞大於門檻\n",
      "第 140.0 的詞實際排在前 4.08997955010225 %\n"
     ]
    }
   ],
   "source": [
    "import numpy as np\n",
    "\n",
    "print(\"總共有\",resp_count * top_num,\"個詞\")\n",
    "dic = {} #統計出現次數\n",
    "for top20_list in tf_idf_resp:\n",
    "    for ele in top20_list:\n",
    "        if not ele in dic:\n",
    "            dic[ele] = 1\n",
    "        else:\n",
    "            dic[ele] = dic[ele] + 1\n",
    "print(\"其中共有\",len(dic),\"個不重複的詞\")\n",
    "\n",
    "lis = sorted(dic.items(),key = lambda dic:dic[1],reverse = True)\n",
    "\n",
    "total = 0.0\n",
    "for ele in lis[:]:\n",
    "    total += ele[1]\n",
    "#print(\"詞的總次數\",total)\n",
    "\n",
    "mean = total / len(dic)\n",
    "print(\"每個詞平均重複出現\",mean,\"次\")\n",
    "#max_count_item = max(lis, key=lambda x:x[1])# 出現次數最多\n",
    "#min_count_item = min(lis, key=lambda x:x[1])# 出現次數最少\n",
    "#print (max_count_item[0], min_count_item[0])\n",
    "\n",
    "\n",
    "#求標準差\n",
    "err = 0\n",
    "for ele in lis[:]:\n",
    "    x = ele[1]\n",
    "    err += (x-mean)**2\n",
    "sd = (err/len(dic))**0.5\n",
    "print(\"標準差\",sd,\"次\")\n",
    "print(\"-----------------------\")\n",
    "print(\"列出次數最高的前20個詞與次數:\")\n",
    "for ele in lis[0:20]:\n",
    "    print(ele[0],ele[1])\n",
    "print(\"-----------------------\")    \n",
    "#根據Chebyshev不等式(Chebyshev's Inequality)\n",
    "#mean的1個標準差範圍內至少包含約50%的資料\n",
    "#mean的2個標準差範圍內至少包含約75%的資料\n",
    "#mean的3個標準差範圍內至少包含約89%的資料\n",
    "\n",
    "treshold = mean+2*sd\n",
    "print(\"門檻設定為mean的2個標準差範圍\",treshold,\"次\") #大於此門檻次數的詞就是保證排名在前25%內的詞\n",
    "\n",
    "count = 0.0\n",
    "for ele in lis[:]:\n",
    "    if ele[1] > treshold:\n",
    "        count += 1\n",
    "print(\"共\",count,\"個詞大於門檻\")\n",
    "rank = count/len(dic)\n",
    "print(\"第\",count,\"的詞實際排在前\",rank*100,\"%\")"
   ]
  },
  {
   "cell_type": "markdown",
   "metadata": {},
   "source": [
    "## 購物籃分析"
   ]
  },
  {
   "cell_type": "code",
   "execution_count": 14,
   "metadata": {
    "collapsed": false
   },
   "outputs": [
    {
     "name": "stdout",
     "output_type": "stream",
     "text": [
      "購物籃分析的時間 0.05496893096915301 秒\n",
      "\n",
      "傳回 9 組關聯分析結果:\n",
      "與查詢詞 颱風 台灣 常出現的詞:\n",
      "地震\n",
      "放假\n",
      "日本\n",
      "柯p\n",
      "柯文哲\n",
      "補班\n",
      "資方\n",
      "颱風\n",
      "颱風假\n"
     ]
    }
   ],
   "source": [
    "time_step4 = time.clock()\n",
    "D = apriori(tf_idf_resp,rank)# 購物籃分析\n",
    "time_step5 = time.clock()\n",
    "print(\"購物籃分析的時間\",time_step5-time_step4,\"秒\")\n",
    "print()\n",
    "\n",
    "print(\"傳回\",len(D),\"組關聯分析結果:\")\n",
    "print(\"與查詢詞\",tag1,tag2,\"常出現的詞:\")\n",
    "\n",
    "for ele in D:\n",
    "    if len(ele)>2:\n",
    "        print(\",\".join(ele))\n",
    "    else:\n",
    "        print(ele[0])"
   ]
  },
  {
   "cell_type": "code",
   "execution_count": 10,
   "metadata": {
    "collapsed": true
   },
   "outputs": [],
   "source": [
    "def apriori(D, minSup):\n",
    "    C1 = {}\n",
    "    for T in D:\n",
    "        for I in T:\n",
    "            if I in C1:\n",
    "                C1[I] += 1\n",
    "            else:\n",
    "                C1[I] = 1\n",
    "    _keys1 = C1.keys()\n",
    "    \n",
    "    keys1 = []\n",
    "    for i in _keys1:\n",
    "        keys1.append([i])\n",
    "    \n",
    "    \n",
    "    n = len(D)\n",
    "    cutKeys1 = []\n",
    "    for k in keys1[:]:\n",
    "        if C1[k[0]]*1.0/n >=minSup:\n",
    "            cutKeys1.append(k)\n",
    "    cutKeys1.sort()\n",
    "    \n",
    "    keys = cutKeys1\n",
    "    all_keys = []\n",
    "    while keys != []:\n",
    "        C = getC(D, keys)\n",
    "        cutKeys = getCutKeys(keys, C, minSup, D)\n",
    "        for key in cutKeys:\n",
    "            all_keys.append(key)\n",
    "        keys = aproiri_gen(cutKeys)\n",
    "    return all_keys    \n",
    "\n",
    "def getC(D, keys):\n",
    "    C = []\n",
    "    for key in keys:\n",
    "        c = 0\n",
    "        for T in D:\n",
    "            have = True\n",
    "            for k in key:\n",
    "                if k not in T:\n",
    "                    have = False\n",
    "            if have:\n",
    "                c += 1\n",
    "        C.append(c)\n",
    "    return C   \n",
    "    \n",
    "def getCutKeys(keys, C, minSup, D):\n",
    "    '''判斷這個項目有沒有大於最小支持數'''\n",
    "    for key in keys[:]:\n",
    "        num = 0\n",
    "        for T in D:\n",
    "            if keyInT(key, T):\n",
    "                num += 1\n",
    "        if num * 1.0 / len(D) < minSup:\n",
    "            keys.remove(key)\n",
    "\n",
    "    return keys\n",
    "\n",
    "def keyInT(key, T):\n",
    "    '''判斷項目keys有沒有在項目集T裡面'''\n",
    "    for k in key:\n",
    "        if k not in T:\n",
    "            return False\n",
    "    return True\n",
    "\n",
    "def aproiri_gen(keys1):\n",
    "    '''連起來'''\n",
    "    keys2 = []\n",
    "    for k1 in keys1:\n",
    "        for k2 in keys1:\n",
    "            if k1 != k2:\n",
    "                key = []\n",
    "                for k in k1:\n",
    "                    if k not in key:\n",
    "                        key.append(k)\n",
    "                for k in k2:\n",
    "                    if k not in key:\n",
    "                        key.append(k)\n",
    "                key.sort()\n",
    "                if key not in keys2:\n",
    "                    keys2.append(key)\n",
    "    return keys2    "
   ]
  },
  {
   "cell_type": "code",
   "execution_count": null,
   "metadata": {
    "collapsed": true
   },
   "outputs": [],
   "source": []
  }
 ],
 "metadata": {
  "kernelspec": {
   "display_name": "Python 3",
   "language": "python",
   "name": "python3"
  },
  "language_info": {
   "codemirror_mode": {
    "name": "ipython",
    "version": 3
   },
   "file_extension": ".py",
   "mimetype": "text/x-python",
   "name": "python",
   "nbconvert_exporter": "python",
   "pygments_lexer": "ipython3",
   "version": "3.5.1"
  }
 },
 "nbformat": 4,
 "nbformat_minor": 0
}

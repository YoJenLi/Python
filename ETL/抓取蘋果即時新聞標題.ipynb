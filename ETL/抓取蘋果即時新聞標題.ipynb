{
 "cells": [
  {
   "cell_type": "code",
   "execution_count": 26,
   "metadata": {
    "collapsed": false
   },
   "outputs": [
    {
     "name": "stdout",
     "output_type": "stream",
     "text": [
      "22:03 生活 【環境資訊】蘭嶼珊瑚礁魚兒變少又變小 環...(0)\n",
      "21:59 生活 【環境資訊】【你來報報】烏來泰雅生產合作...(0)\n",
      "21:57 生活 【更新】全台唯一　野柳國小畢業生自製獨木...(1054)\n",
      "21:57 娛樂 遺傳基因強大！權相佑7歲兒好帥(40)\n",
      "21:55 生活 【環境資訊】北極融冰加快 美、加發警訊：...(44)\n",
      "21:54 國際 兄弟爭吵食物下毒　31名顧客枉死(43)\n",
      "21:51 生活 【環境資訊】杉原棕櫚渡假村 環差審查「拖...(88)\n",
      "21:50 政治 遭批「藝妓外交」　謝長廷眼不見為淨出國去(447)\n",
      "21:49 體育 【更新】桃猿搶回4分　7比12落後犀牛(6650)\n",
      "21:48 國際 【法廣RFI】法媒:中鐵總公司債務遠超希...(5)\n",
      "21:45 娛樂 【更新】陳立宏2次開腦出院　影響腦神經「...(2948)\n",
      "21:42 體育 【更新】周董志豪2轟擊垮獅隊　中信6比3...(14398)\n",
      "21:42 生活 世大運轉播案求華視　北市府：惡意扭曲(263)\n",
      "21:39 體育 陽耀勳觸身球退場　左手食指縫12針(1953)\n",
      "21:38 論壇 想批旅遊產業，請先知道他們在做什麼(670)\n",
      "21:37 社會 【公庫】你想變成媽媽嗎？母親節誰快樂？(210)\n",
      "21:35 財經 【更新】美國非農創7個月新低　美元瞬間軟...(1366)\n",
      "21:35 娛樂 【有片】女學生笑戳祖雄的小肌群(997)\n",
      "21:33 動物 愛犬關屋內17小時後電梯漏尿　遭狠男毒打(1810)\n",
      "21:33 國際 【法廣RFI】英國工黨在地區議會選舉丟分(94)\n",
      "21:32 國際 用人體抗體製藥　癌症新療法副作用低(559)\n",
      "21:30 財經 陳俊聖下3令　宏碁百億銀彈將投新創團隊(463)\n",
      "21:30 時尚 Baby不裝乖！軍裝風搞叛逆(587)\n",
      "21:29 社會 【更新】超傻眼！這位苦主被逼練「翹孤輪」(3620)\n",
      "21:29 娛樂 【有片】蔡琴自虧遠看最好看　假老公「對她...(3669)\n",
      "21:28 政治 【更新】檢討高市議會冗員遭阻　議員蕭永達...(4611)\n",
      "21:28 娛樂 【更新】hito頒獎禮爆索票黑箱　網友批...(6603)\n",
      "21:28 生活 WHA邀請函已寄往台灣？　衛福部：尚待證...(374)\n",
      "21:27 社會 【公庫】撤銷核二重起案發回更審 義務律師...(84)\n",
      "21:26 政治 【民報】媽媽教吳寶春的事：做人不要怨天尤...(330)\n"
     ]
    },
    {
     "ename": "IndexError",
     "evalue": "list index out of range",
     "output_type": "error",
     "traceback": [
      "\u001b[0;31m---------------------------------------------------------------------------\u001b[0m",
      "\u001b[0;31mIndexError\u001b[0m                                Traceback (most recent call last)",
      "\u001b[0;32m<ipython-input-26-3c954d144f90>\u001b[0m in \u001b[0;36m<module>\u001b[0;34m()\u001b[0m\n\u001b[1;32m      4\u001b[0m \u001b[0msoup\u001b[0m \u001b[0;34m=\u001b[0m \u001b[0mbs\u001b[0m\u001b[0;34m(\u001b[0m\u001b[0mres\u001b[0m\u001b[0;34m.\u001b[0m\u001b[0mtext\u001b[0m\u001b[0;34m)\u001b[0m\u001b[0;34m\u001b[0m\u001b[0m\n\u001b[1;32m      5\u001b[0m \u001b[0;32mfor\u001b[0m \u001b[0ma\u001b[0m \u001b[0;32min\u001b[0m \u001b[0msoup\u001b[0m\u001b[0;34m.\u001b[0m\u001b[0mselect\u001b[0m\u001b[0;34m(\u001b[0m\u001b[0;34m'.clearmen li'\u001b[0m\u001b[0;34m)\u001b[0m\u001b[0;34m:\u001b[0m\u001b[0;34m\u001b[0m\u001b[0m\n\u001b[0;32m----> 6\u001b[0;31m     \u001b[0;32mprint\u001b[0m \u001b[0ma\u001b[0m\u001b[0;34m.\u001b[0m\u001b[0mselect\u001b[0m\u001b[0;34m(\u001b[0m\u001b[0;34m'time'\u001b[0m\u001b[0;34m)\u001b[0m\u001b[0;34m[\u001b[0m\u001b[0;36m0\u001b[0m\u001b[0;34m]\u001b[0m\u001b[0;34m.\u001b[0m\u001b[0mtext\u001b[0m\u001b[0;34m.\u001b[0m\u001b[0mstrip\u001b[0m\u001b[0;34m(\u001b[0m\u001b[0;34m)\u001b[0m\u001b[0;34m,\u001b[0m    \u001b[0ma\u001b[0m\u001b[0;34m.\u001b[0m\u001b[0mselect\u001b[0m\u001b[0;34m(\u001b[0m\u001b[0;34m'h2'\u001b[0m\u001b[0;34m)\u001b[0m\u001b[0;34m[\u001b[0m\u001b[0;36m0\u001b[0m\u001b[0;34m]\u001b[0m\u001b[0;34m.\u001b[0m\u001b[0mtext\u001b[0m\u001b[0;34m.\u001b[0m\u001b[0mstrip\u001b[0m\u001b[0;34m(\u001b[0m\u001b[0;34m)\u001b[0m\u001b[0;34m,\u001b[0m    \u001b[0ma\u001b[0m\u001b[0;34m.\u001b[0m\u001b[0mselect\u001b[0m\u001b[0;34m(\u001b[0m\u001b[0;34m'h1'\u001b[0m\u001b[0;34m)\u001b[0m\u001b[0;34m[\u001b[0m\u001b[0;36m0\u001b[0m\u001b[0;34m]\u001b[0m\u001b[0;34m.\u001b[0m\u001b[0mtext\u001b[0m\u001b[0;34m.\u001b[0m\u001b[0mstrip\u001b[0m\u001b[0;34m(\u001b[0m\u001b[0;34m)\u001b[0m\u001b[0;34m\u001b[0m\u001b[0m\n\u001b[0m",
      "\u001b[0;31mIndexError\u001b[0m: list index out of range"
     ]
    }
   ],
   "source": [
    "import requests\n",
    "from bs4 import BeautifulSoup as bs\n",
    "res=requests.get('http://www.appledaily.com.tw/realtimenews/section/new/')\n",
    "soup = bs(res.text)\n",
    "for a in soup.select('.clearmen li'):#直接縮小範圍在clearmen底下所有的li都抓出來\n",
    "    print a.select('time')[0].text.strip(),\\#抓取li裡面的time\n",
    "            a.select('h2')[0].text.strip(),\\#抓取li裡面的h2\n",
    "            a.select('h1')[0].text.strip()#抓取li裡面的h1\n"
   ]
  },
  {
   "cell_type": "code",
   "execution_count": null,
   "metadata": {
    "collapsed": true
   },
   "outputs": [],
   "source": []
  }
 ],
 "metadata": {
  "kernelspec": {
   "display_name": "Python 2",
   "language": "python",
   "name": "python2"
  },
  "language_info": {
   "codemirror_mode": {
    "name": "ipython",
    "version": 2
   },
   "file_extension": ".py",
   "mimetype": "text/x-python",
   "name": "python",
   "nbconvert_exporter": "python",
   "pygments_lexer": "ipython2",
   "version": "2.7.11"
  }
 },
 "nbformat": 4,
 "nbformat_minor": 0
}

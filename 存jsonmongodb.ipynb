{
 "cells": [
  {
   "cell_type": "code",
   "execution_count": 15,
   "metadata": {
    "collapsed": false
   },
   "outputs": [],
   "source": [
    "d = []\n",
    "with open('1.txt', 'r') as f:\n",
    "    for ele in f.readlines():\n",
    "        name = ele.strip().split(',')\n",
    "        dic = {'公司名稱':name}\n",
    "        d.append(dic)"
   ]
  },
  {
   "cell_type": "code",
   "execution_count": 17,
   "metadata": {
    "collapsed": false
   },
   "outputs": [],
   "source": [
    "import json\n",
    "d1 =  json.dumps(d)"
   ]
  },
  {
   "cell_type": "code",
   "execution_count": 19,
   "metadata": {
    "collapsed": false
   },
   "outputs": [],
   "source": [
    "with open('aa.json', \"w\") as f:\n",
    "        f.write(d1)\n",
    "        f.close()"
   ]
  },
  {
   "cell_type": "code",
   "execution_count": 30,
   "metadata": {
    "collapsed": false
   },
   "outputs": [
    {
     "name": "stdout",
     "output_type": "stream",
     "text": [
      "[u'\\ufeff\\u5947\\u92d0\\u79d1\\u6280\\u80a1\\u4efd\\u6709\\u9650\\u516c\\u53f8', u'\\u5947\\u92d0', u'\\u5947\\u92d0\\u79d1\\u6280', u'\\u5947']\n"
     ]
    }
   ],
   "source": [
    "import pymongo\n",
    "from pymongo import MongoClient\n",
    "\n",
    "client = MongoClient() #預設連接自己主機上的mongodb\n",
    "database = client[\"test\"] # SQL: Database Name\n",
    "collection = database[\"test10\"]   # SQL: Table Name\n",
    "\n",
    "for post in collection.find({\"公司名稱\":{\"$regex\":'奇'}},{\"_id\":0}): #collection = person,這等於select * from person\n",
    "    print post[u'\\u516c\\u53f8\\u540d\\u7a31']"
   ]
  },
  {
   "cell_type": "code",
   "execution_count": 27,
   "metadata": {
    "collapsed": false
   },
   "outputs": [
    {
     "name": "stdout",
     "output_type": "stream",
     "text": [
      "﻿奇鋐科技股份有限公司\n",
      "奇鋐\n",
      "奇鋐科技\n",
      "奇\n"
     ]
    }
   ],
   "source": [
    "for i in post[u'\\u516c\\u53f8\\u540d\\u7a31']:\n",
    "    print i"
   ]
  },
  {
   "cell_type": "code",
   "execution_count": 47,
   "metadata": {
    "collapsed": false
   },
   "outputs": [],
   "source": [
    "d = []\n",
    "with open('2.txt', 'r') as f:\n",
    "    for ele in f.readlines():\n",
    "        name = ele.strip().split(',')\n",
    "        dic = {'company':name[3],'date':name[0],'lawNumber':name[2],'law':name[5],'content':name[6]}\n",
    "        d.append(dic)"
   ]
  },
  {
   "cell_type": "code",
   "execution_count": 48,
   "metadata": {
    "collapsed": false
   },
   "outputs": [],
   "source": [
    "import json\n",
    "d1 =  json.dumps(d)"
   ]
  },
  {
   "cell_type": "code",
   "execution_count": 49,
   "metadata": {
    "collapsed": false
   },
   "outputs": [],
   "source": [
    "with open('bb.json', \"w\") as f:\n",
    "        f.write(d1)\n",
    "        f.close()"
   ]
  },
  {
   "cell_type": "code",
   "execution_count": 99,
   "metadata": {
    "collapsed": false
   },
   "outputs": [],
   "source": [
    "def search_company(tag):\n",
    "    import pymongo\n",
    "    from pymongo import MongoClient\n",
    "\n",
    "    client = MongoClient() #預設連接自己主機上的mongodb\n",
    "    database = client[\"test\"] # SQL: Database Name\n",
    "    collection = database[\"test22\"]   # SQL: Table Name\n",
    "    num = collection.find({\"company\":{\"$regex\":tag}}).count()\n",
    "    print \"總共有\" + str(num) + \"筆符合\"\n",
    "    if num > 0:\n",
    "        for post in collection.find({\"company\":{\"$regex\":tag}}): #collection = person,這等於select * from person\n",
    "            print post['date'],\n",
    "            print post['law'],\n",
    "            print post['content'],\n",
    "    else:\n",
    "        print \"暫時無違規紀錄\"\n",
    "    \n",
    "            "
   ]
  },
  {
   "cell_type": "code",
   "execution_count": 100,
   "metadata": {
    "collapsed": false
   },
   "outputs": [
    {
     "name": "stdout",
     "output_type": "stream",
     "text": [
      "總共有0筆符合\n",
      "暫時無違規紀錄\n"
     ]
    }
   ],
   "source": [
    "search_company('巴巴')"
   ]
  },
  {
   "cell_type": "code",
   "execution_count": 102,
   "metadata": {
    "collapsed": false
   },
   "outputs": [],
   "source": [
    "d = []\n",
    "with open('3.txt', 'r') as f:\n",
    "    for ele in f.readlines():\n",
    "        name = ele.strip().split(',')\n",
    "        dic = {'company':name[0],'job':{'jobname':name[1],'salary':name[2]}}\n",
    "        d.append(dic)"
   ]
  },
  {
   "cell_type": "code",
   "execution_count": 103,
   "metadata": {
    "collapsed": false
   },
   "outputs": [
    {
     "name": "stdout",
     "output_type": "stream",
     "text": [
      "{'company': '\\xe5\\xaf\\xa7\\xe6\\x96\\x90\\xe5\\xbe\\xa1\\xe6\\xa5\\xad', 'job': {'salary': '50000(\\xe6\\x84\\x9f\\xe8\\xa6\\xba\\xe9\\xa8\\x99\\xe4\\xba\\xba', 'jobname': '\\xe5\\xb0\\x88\\xe6\\xa1\\x88\\xe4\\xbc\\x81\\xe5\\x8a\\x83'}}\n"
     ]
    }
   ],
   "source": [
    "print dic"
   ]
  },
  {
   "cell_type": "code",
   "execution_count": null,
   "metadata": {
    "collapsed": true
   },
   "outputs": [],
   "source": []
  }
 ],
 "metadata": {
  "kernelspec": {
   "display_name": "Python 2",
   "language": "python",
   "name": "python2"
  },
  "language_info": {
   "codemirror_mode": {
    "name": "ipython",
    "version": 2
   },
   "file_extension": ".py",
   "mimetype": "text/x-python",
   "name": "python",
   "nbconvert_exporter": "python",
   "pygments_lexer": "ipython2",
   "version": "2.7.11"
  }
 },
 "nbformat": 4,
 "nbformat_minor": 0
}
